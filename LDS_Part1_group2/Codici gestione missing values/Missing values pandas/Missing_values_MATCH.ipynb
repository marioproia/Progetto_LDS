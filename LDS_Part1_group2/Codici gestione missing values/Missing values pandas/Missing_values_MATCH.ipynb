{
 "cells": [
  {
   "cell_type": "code",
   "execution_count": 69,
   "metadata": {},
   "outputs": [],
   "source": [
    "import pandas as pd\n",
    "pd.set_option(\"display.max_columns\", None)\n",
    "import numpy as np"
   ]
  },
  {
   "cell_type": "code",
   "execution_count": 70,
   "metadata": {},
   "outputs": [],
   "source": [
    "match= pd.read_csv(r\"C:\\Users\\giada\\Desktop\\PROGETTO LAB\\data2021\\match_finale.csv\")"
   ]
  },
  {
   "cell_type": "code",
   "execution_count": 71,
   "metadata": {},
   "outputs": [
    {
     "data": {
      "text/plain": [
       "(185764, 30)"
      ]
     },
     "execution_count": 71,
     "metadata": {},
     "output_type": "execute_result"
    }
   ],
   "source": [
    "match.shape"
   ]
  },
  {
   "cell_type": "code",
   "execution_count": 72,
   "metadata": {},
   "outputs": [
    {
     "data": {
      "text/html": [
       "<div>\n",
       "<style scoped>\n",
       "    .dataframe tbody tr th:only-of-type {\n",
       "        vertical-align: middle;\n",
       "    }\n",
       "\n",
       "    .dataframe tbody tr th {\n",
       "        vertical-align: top;\n",
       "    }\n",
       "\n",
       "    .dataframe thead th {\n",
       "        text-align: right;\n",
       "    }\n",
       "</style>\n",
       "<table border=\"1\" class=\"dataframe\">\n",
       "  <thead>\n",
       "    <tr style=\"text-align: right;\">\n",
       "      <th></th>\n",
       "      <th>tourney_id</th>\n",
       "      <th>match_id</th>\n",
       "      <th>winner_id</th>\n",
       "      <th>loser_id</th>\n",
       "      <th>score</th>\n",
       "      <th>best_of</th>\n",
       "      <th>round</th>\n",
       "      <th>minutes</th>\n",
       "      <th>w_ace</th>\n",
       "      <th>w_df</th>\n",
       "      <th>w_svpt</th>\n",
       "      <th>w_1stIn</th>\n",
       "      <th>w_1stWon</th>\n",
       "      <th>w_2ndWon</th>\n",
       "      <th>w_SvGms</th>\n",
       "      <th>w_bpSaved</th>\n",
       "      <th>w_bpFaced</th>\n",
       "      <th>l_ace</th>\n",
       "      <th>l_df</th>\n",
       "      <th>l_svpt</th>\n",
       "      <th>l_1stIn</th>\n",
       "      <th>l_1stWon</th>\n",
       "      <th>l_2ndWon</th>\n",
       "      <th>l_SvGms</th>\n",
       "      <th>l_bpSaved</th>\n",
       "      <th>l_bpFaced</th>\n",
       "      <th>winner_rank</th>\n",
       "      <th>winner_rank_points</th>\n",
       "      <th>loser_rank</th>\n",
       "      <th>loser_rank_points</th>\n",
       "    </tr>\n",
       "  </thead>\n",
       "  <tbody>\n",
       "    <tr>\n",
       "      <th>0</th>\n",
       "      <td>2019-M020/A/brisbane</td>\n",
       "      <td>300/2019-M020</td>\n",
       "      <td>105453</td>\n",
       "      <td>106421</td>\n",
       "      <td>6-4 3-6 6-2</td>\n",
       "      <td>3</td>\n",
       "      <td>F</td>\n",
       "      <td>124.0</td>\n",
       "      <td>3.0</td>\n",
       "      <td>3.0</td>\n",
       "      <td>77.0</td>\n",
       "      <td>44.0</td>\n",
       "      <td>31.0</td>\n",
       "      <td>17.0</td>\n",
       "      <td>13.0</td>\n",
       "      <td>3.0</td>\n",
       "      <td>6.0</td>\n",
       "      <td>8.0</td>\n",
       "      <td>6.0</td>\n",
       "      <td>100.0</td>\n",
       "      <td>54.0</td>\n",
       "      <td>34.0</td>\n",
       "      <td>20.0</td>\n",
       "      <td>14.0</td>\n",
       "      <td>10.0</td>\n",
       "      <td>15.0</td>\n",
       "      <td>9.0</td>\n",
       "      <td>3590.0</td>\n",
       "      <td>16.0</td>\n",
       "      <td>1977.0</td>\n",
       "    </tr>\n",
       "    <tr>\n",
       "      <th>1</th>\n",
       "      <td>2019-M020/A/brisbane</td>\n",
       "      <td>299/2019-M020</td>\n",
       "      <td>106421</td>\n",
       "      <td>104542</td>\n",
       "      <td>7-6(6) 6-2</td>\n",
       "      <td>3</td>\n",
       "      <td>SF</td>\n",
       "      <td>82.0</td>\n",
       "      <td>10.0</td>\n",
       "      <td>1.0</td>\n",
       "      <td>52.0</td>\n",
       "      <td>33.0</td>\n",
       "      <td>28.0</td>\n",
       "      <td>14.0</td>\n",
       "      <td>10.0</td>\n",
       "      <td>0.0</td>\n",
       "      <td>1.0</td>\n",
       "      <td>17.0</td>\n",
       "      <td>2.0</td>\n",
       "      <td>77.0</td>\n",
       "      <td>52.0</td>\n",
       "      <td>36.0</td>\n",
       "      <td>7.0</td>\n",
       "      <td>10.0</td>\n",
       "      <td>10.0</td>\n",
       "      <td>13.0</td>\n",
       "      <td>16.0</td>\n",
       "      <td>1977.0</td>\n",
       "      <td>239.0</td>\n",
       "      <td>200.0</td>\n",
       "    </tr>\n",
       "    <tr>\n",
       "      <th>2</th>\n",
       "      <td>2019-M020/A/brisbane</td>\n",
       "      <td>298/2019-M020</td>\n",
       "      <td>105453</td>\n",
       "      <td>104871</td>\n",
       "      <td>6-2 6-2</td>\n",
       "      <td>3</td>\n",
       "      <td>SF</td>\n",
       "      <td>66.0</td>\n",
       "      <td>2.0</td>\n",
       "      <td>2.0</td>\n",
       "      <td>47.0</td>\n",
       "      <td>33.0</td>\n",
       "      <td>26.0</td>\n",
       "      <td>9.0</td>\n",
       "      <td>8.0</td>\n",
       "      <td>2.0</td>\n",
       "      <td>2.0</td>\n",
       "      <td>10.0</td>\n",
       "      <td>3.0</td>\n",
       "      <td>46.0</td>\n",
       "      <td>27.0</td>\n",
       "      <td>15.0</td>\n",
       "      <td>6.0</td>\n",
       "      <td>8.0</td>\n",
       "      <td>1.0</td>\n",
       "      <td>5.0</td>\n",
       "      <td>9.0</td>\n",
       "      <td>3590.0</td>\n",
       "      <td>40.0</td>\n",
       "      <td>1050.0</td>\n",
       "    </tr>\n",
       "    <tr>\n",
       "      <th>3</th>\n",
       "      <td>2019-M020/A/brisbane</td>\n",
       "      <td>297/2019-M020</td>\n",
       "      <td>104542</td>\n",
       "      <td>200282</td>\n",
       "      <td>6-4 7-6(2)</td>\n",
       "      <td>3</td>\n",
       "      <td>QF</td>\n",
       "      <td>106.0</td>\n",
       "      <td>12.0</td>\n",
       "      <td>2.0</td>\n",
       "      <td>68.0</td>\n",
       "      <td>43.0</td>\n",
       "      <td>34.0</td>\n",
       "      <td>15.0</td>\n",
       "      <td>11.0</td>\n",
       "      <td>4.0</td>\n",
       "      <td>5.0</td>\n",
       "      <td>1.0</td>\n",
       "      <td>2.0</td>\n",
       "      <td>81.0</td>\n",
       "      <td>60.0</td>\n",
       "      <td>38.0</td>\n",
       "      <td>9.0</td>\n",
       "      <td>11.0</td>\n",
       "      <td>4.0</td>\n",
       "      <td>6.0</td>\n",
       "      <td>239.0</td>\n",
       "      <td>200.0</td>\n",
       "      <td>31.0</td>\n",
       "      <td>1298.0</td>\n",
       "    </tr>\n",
       "    <tr>\n",
       "      <th>4</th>\n",
       "      <td>2019-M020/A/brisbane</td>\n",
       "      <td>296/2019-M020</td>\n",
       "      <td>106421</td>\n",
       "      <td>105683</td>\n",
       "      <td>6-7(2) 6-3 6-4</td>\n",
       "      <td>3</td>\n",
       "      <td>QF</td>\n",
       "      <td>129.0</td>\n",
       "      <td>12.0</td>\n",
       "      <td>3.0</td>\n",
       "      <td>105.0</td>\n",
       "      <td>68.0</td>\n",
       "      <td>48.0</td>\n",
       "      <td>25.0</td>\n",
       "      <td>16.0</td>\n",
       "      <td>8.0</td>\n",
       "      <td>8.0</td>\n",
       "      <td>29.0</td>\n",
       "      <td>5.0</td>\n",
       "      <td>94.0</td>\n",
       "      <td>56.0</td>\n",
       "      <td>46.0</td>\n",
       "      <td>19.0</td>\n",
       "      <td>15.0</td>\n",
       "      <td>2.0</td>\n",
       "      <td>4.0</td>\n",
       "      <td>16.0</td>\n",
       "      <td>1977.0</td>\n",
       "      <td>18.0</td>\n",
       "      <td>1855.0</td>\n",
       "    </tr>\n",
       "  </tbody>\n",
       "</table>\n",
       "</div>"
      ],
      "text/plain": [
       "             tourney_id       match_id  winner_id  loser_id           score  \\\n",
       "0  2019-M020/A/brisbane  300/2019-M020     105453    106421     6-4 3-6 6-2   \n",
       "1  2019-M020/A/brisbane  299/2019-M020     106421    104542      7-6(6) 6-2   \n",
       "2  2019-M020/A/brisbane  298/2019-M020     105453    104871         6-2 6-2   \n",
       "3  2019-M020/A/brisbane  297/2019-M020     104542    200282      6-4 7-6(2)   \n",
       "4  2019-M020/A/brisbane  296/2019-M020     106421    105683  6-7(2) 6-3 6-4   \n",
       "\n",
       "   best_of round  minutes  w_ace  w_df  w_svpt  w_1stIn  w_1stWon  w_2ndWon  \\\n",
       "0        3     F    124.0    3.0   3.0    77.0     44.0      31.0      17.0   \n",
       "1        3    SF     82.0   10.0   1.0    52.0     33.0      28.0      14.0   \n",
       "2        3    SF     66.0    2.0   2.0    47.0     33.0      26.0       9.0   \n",
       "3        3    QF    106.0   12.0   2.0    68.0     43.0      34.0      15.0   \n",
       "4        3    QF    129.0   12.0   3.0   105.0     68.0      48.0      25.0   \n",
       "\n",
       "   w_SvGms  w_bpSaved  w_bpFaced  l_ace  l_df  l_svpt  l_1stIn  l_1stWon  \\\n",
       "0     13.0        3.0        6.0    8.0   6.0   100.0     54.0      34.0   \n",
       "1     10.0        0.0        1.0   17.0   2.0    77.0     52.0      36.0   \n",
       "2      8.0        2.0        2.0   10.0   3.0    46.0     27.0      15.0   \n",
       "3     11.0        4.0        5.0    1.0   2.0    81.0     60.0      38.0   \n",
       "4     16.0        8.0        8.0   29.0   5.0    94.0     56.0      46.0   \n",
       "\n",
       "   l_2ndWon  l_SvGms  l_bpSaved  l_bpFaced  winner_rank  winner_rank_points  \\\n",
       "0      20.0     14.0       10.0       15.0          9.0              3590.0   \n",
       "1       7.0     10.0       10.0       13.0         16.0              1977.0   \n",
       "2       6.0      8.0        1.0        5.0          9.0              3590.0   \n",
       "3       9.0     11.0        4.0        6.0        239.0               200.0   \n",
       "4      19.0     15.0        2.0        4.0         16.0              1977.0   \n",
       "\n",
       "   loser_rank  loser_rank_points  \n",
       "0        16.0             1977.0  \n",
       "1       239.0              200.0  \n",
       "2        40.0             1050.0  \n",
       "3        31.0             1298.0  \n",
       "4        18.0             1855.0  "
      ]
     },
     "execution_count": 72,
     "metadata": {},
     "output_type": "execute_result"
    }
   ],
   "source": [
    "match.head()"
   ]
  },
  {
   "cell_type": "code",
   "execution_count": 73,
   "metadata": {},
   "outputs": [
    {
     "data": {
      "text/plain": [
       "(185764,)"
      ]
     },
     "execution_count": 73,
     "metadata": {},
     "output_type": "execute_result"
    }
   ],
   "source": [
    "#vediamo match e se ha duplicati la chiave primaria\n",
    "column_values = match[[\"match_id\"]].values.ravel()\n",
    "unique_values =  pd.unique(column_values)\n",
    "unique_values.shape"
   ]
  },
  {
   "cell_type": "code",
   "execution_count": 74,
   "metadata": {},
   "outputs": [
    {
     "data": {
      "text/plain": [
       "tourney_id                 0\n",
       "match_id                   0\n",
       "winner_id                  0\n",
       "loser_id                   0\n",
       "score                    169\n",
       "best_of                    0\n",
       "round                      0\n",
       "minutes               104430\n",
       "w_ace                 103782\n",
       "w_df                  103782\n",
       "w_svpt                103782\n",
       "w_1stIn               103782\n",
       "w_1stWon              103782\n",
       "w_2ndWon              103782\n",
       "w_SvGms               103778\n",
       "w_bpSaved             103782\n",
       "w_bpFaced             103782\n",
       "l_ace                 103782\n",
       "l_df                  103782\n",
       "l_svpt                103782\n",
       "l_1stIn               103782\n",
       "l_1stWon              103782\n",
       "l_2ndWon              103782\n",
       "l_SvGms               103778\n",
       "l_bpSaved             103782\n",
       "l_bpFaced             103782\n",
       "winner_rank            19372\n",
       "winner_rank_points     19388\n",
       "loser_rank             35232\n",
       "loser_rank_points      35248\n",
       "dtype: int64"
      ]
     },
     "execution_count": 74,
     "metadata": {},
     "output_type": "execute_result"
    }
   ],
   "source": [
    "match.isnull().sum()"
   ]
  },
  {
   "cell_type": "markdown",
   "metadata": {},
   "source": [
    "# Missing Values \"score\""
   ]
  },
  {
   "cell_type": "code",
   "execution_count": 75,
   "metadata": {},
   "outputs": [
    {
     "data": {
      "text/plain": [
       "6-3 6-4                  5367\n",
       "6-3 6-2                  5252\n",
       "6-4 6-4                  5193\n",
       "6-2 6-2                  5089\n",
       "6-3 6-3                  4836\n",
       "                         ... \n",
       "4-6 7-6(8) 7-6(2)           1\n",
       "6-2 0-6 [10-8]              1\n",
       "7-6(5) 6-7(7) 6-3 6-2       1\n",
       "7-6(9) 6-4 6-3              1\n",
       "7-5 6-7(11) 6-1             1\n",
       "Name: score, Length: 9705, dtype: int64"
      ]
     },
     "execution_count": 75,
     "metadata": {},
     "output_type": "execute_result"
    }
   ],
   "source": [
    "match[\"score\"].value_counts()"
   ]
  },
  {
   "cell_type": "markdown",
   "metadata": {},
   "source": [
    "Poichè i valori di score sono molto particolari, è stato deciso di rimuovere tali missing values (cioè le righe corrispondenti). In quanto si correrebbe il rischio di assegnare punteggi sbagliati, magari invertiti per vincitori e perdenti"
   ]
  },
  {
   "cell_type": "code",
   "execution_count": 76,
   "metadata": {},
   "outputs": [],
   "source": [
    "match.dropna(subset = [\"score\"], inplace=True)"
   ]
  },
  {
   "cell_type": "code",
   "execution_count": 77,
   "metadata": {},
   "outputs": [
    {
     "data": {
      "text/plain": [
       "tourney_id                 0\n",
       "match_id                   0\n",
       "winner_id                  0\n",
       "loser_id                   0\n",
       "score                      0\n",
       "best_of                    0\n",
       "round                      0\n",
       "minutes               104262\n",
       "w_ace                 103613\n",
       "w_df                  103613\n",
       "w_svpt                103613\n",
       "w_1stIn               103613\n",
       "w_1stWon              103613\n",
       "w_2ndWon              103613\n",
       "w_SvGms               103610\n",
       "w_bpSaved             103613\n",
       "w_bpFaced             103613\n",
       "l_ace                 103613\n",
       "l_df                  103613\n",
       "l_svpt                103613\n",
       "l_1stIn               103613\n",
       "l_1stWon              103613\n",
       "l_2ndWon              103613\n",
       "l_SvGms               103610\n",
       "l_bpSaved             103613\n",
       "l_bpFaced             103613\n",
       "winner_rank            19344\n",
       "winner_rank_points     19360\n",
       "loser_rank             35206\n",
       "loser_rank_points      35222\n",
       "dtype: int64"
      ]
     },
     "execution_count": 77,
     "metadata": {},
     "output_type": "execute_result"
    }
   ],
   "source": [
    "match.isnull().sum()"
   ]
  },
  {
   "cell_type": "markdown",
   "metadata": {},
   "source": [
    "Poichè sono presenti delle colonne con più del 50% di valori null, si procederà a rimuoverle per continuare la nostra analisi"
   ]
  },
  {
   "cell_type": "code",
   "execution_count": 78,
   "metadata": {},
   "outputs": [],
   "source": [
    "match.drop(columns=['minutes','w_ace', \n",
    "                    'w_df', 'w_svpt', 'w_1stIn', \n",
    "                    'w_1stWon', 'w_2ndWon', 'w_SvGms', \n",
    "                    'w_bpSaved', 'w_bpFaced', 'l_ace', \n",
    "                    'l_df', 'l_svpt', 'l_1stIn', \n",
    "                    'l_1stWon', 'l_2ndWon', 'l_SvGms', \n",
    "                    'l_bpSaved','l_bpFaced'], inplace=True)"
   ]
  },
  {
   "cell_type": "markdown",
   "metadata": {},
   "source": [
    "## Controlliamo se ci sono persone che hanno giocato contro se stesse"
   ]
  },
  {
   "cell_type": "code",
   "execution_count": 79,
   "metadata": {},
   "outputs": [
    {
     "data": {
      "text/html": [
       "<div>\n",
       "<style scoped>\n",
       "    .dataframe tbody tr th:only-of-type {\n",
       "        vertical-align: middle;\n",
       "    }\n",
       "\n",
       "    .dataframe tbody tr th {\n",
       "        vertical-align: top;\n",
       "    }\n",
       "\n",
       "    .dataframe thead th {\n",
       "        text-align: right;\n",
       "    }\n",
       "</style>\n",
       "<table border=\"1\" class=\"dataframe\">\n",
       "  <thead>\n",
       "    <tr style=\"text-align: right;\">\n",
       "      <th></th>\n",
       "      <th>tourney_id</th>\n",
       "      <th>match_id</th>\n",
       "      <th>winner_id</th>\n",
       "      <th>loser_id</th>\n",
       "      <th>score</th>\n",
       "      <th>best_of</th>\n",
       "      <th>round</th>\n",
       "      <th>winner_rank</th>\n",
       "      <th>winner_rank_points</th>\n",
       "      <th>loser_rank</th>\n",
       "      <th>loser_rank_points</th>\n",
       "    </tr>\n",
       "  </thead>\n",
       "  <tbody>\n",
       "    <tr>\n",
       "      <th>63691</th>\n",
       "      <td>2016-7182/C/happy valley ch</td>\n",
       "      <td>244/2016-7182</td>\n",
       "      <td>122059</td>\n",
       "      <td>122059</td>\n",
       "      <td>6-7(3) 6-4 6-2</td>\n",
       "      <td>3</td>\n",
       "      <td>Q1</td>\n",
       "      <td>1161.0</td>\n",
       "      <td>8.0</td>\n",
       "      <td>1161.0</td>\n",
       "      <td>8.0</td>\n",
       "    </tr>\n",
       "    <tr>\n",
       "      <th>66133</th>\n",
       "      <td>2016-7553/C/chengdu ch</td>\n",
       "      <td>261/2016-7553</td>\n",
       "      <td>105026</td>\n",
       "      <td>105026</td>\n",
       "      <td>6-0 6-0</td>\n",
       "      <td>3</td>\n",
       "      <td>Q1</td>\n",
       "      <td>509.0</td>\n",
       "      <td>71.0</td>\n",
       "      <td>509.0</td>\n",
       "      <td>71.0</td>\n",
       "    </tr>\n",
       "    <tr>\n",
       "      <th>66534</th>\n",
       "      <td>2016-7614/C/astana ch</td>\n",
       "      <td>249/2016-7614</td>\n",
       "      <td>105781</td>\n",
       "      <td>105781</td>\n",
       "      <td>6-1 6-3</td>\n",
       "      <td>3</td>\n",
       "      <td>Q1</td>\n",
       "      <td>741.0</td>\n",
       "      <td>28.0</td>\n",
       "      <td>741.0</td>\n",
       "      <td>28.0</td>\n",
       "    </tr>\n",
       "    <tr>\n",
       "      <th>123527</th>\n",
       "      <td>2018-W-WITF-UKR-02A-2018/15/chornomorsk $15k</td>\n",
       "      <td>6/2018-W-WITF-UKR-02A-2018</td>\n",
       "      <td>221371</td>\n",
       "      <td>221371</td>\n",
       "      <td>6-2 6-4</td>\n",
       "      <td>3</td>\n",
       "      <td>R32</td>\n",
       "      <td>NaN</td>\n",
       "      <td>NaN</td>\n",
       "      <td>NaN</td>\n",
       "      <td>NaN</td>\n",
       "    </tr>\n",
       "    <tr>\n",
       "      <th>125650</th>\n",
       "      <td>2019-W-ITF-AUS-04A-2019/15/w15 port pirie</td>\n",
       "      <td>15/2019-W-ITF-AUS-04A-2019</td>\n",
       "      <td>221862</td>\n",
       "      <td>221862</td>\n",
       "      <td>6-0 6-2</td>\n",
       "      <td>3</td>\n",
       "      <td>R32</td>\n",
       "      <td>NaN</td>\n",
       "      <td>NaN</td>\n",
       "      <td>NaN</td>\n",
       "      <td>NaN</td>\n",
       "    </tr>\n",
       "  </tbody>\n",
       "</table>\n",
       "</div>"
      ],
      "text/plain": [
       "                                          tourney_id  \\\n",
       "63691                    2016-7182/C/happy valley ch   \n",
       "66133                         2016-7553/C/chengdu ch   \n",
       "66534                          2016-7614/C/astana ch   \n",
       "123527  2018-W-WITF-UKR-02A-2018/15/chornomorsk $15k   \n",
       "125650     2019-W-ITF-AUS-04A-2019/15/w15 port pirie   \n",
       "\n",
       "                          match_id  winner_id  loser_id           score  \\\n",
       "63691                244/2016-7182     122059    122059  6-7(3) 6-4 6-2   \n",
       "66133                261/2016-7553     105026    105026         6-0 6-0   \n",
       "66534                249/2016-7614     105781    105781         6-1 6-3   \n",
       "123527  6/2018-W-WITF-UKR-02A-2018     221371    221371         6-2 6-4   \n",
       "125650  15/2019-W-ITF-AUS-04A-2019     221862    221862         6-0 6-2   \n",
       "\n",
       "        best_of round  winner_rank  winner_rank_points  loser_rank  \\\n",
       "63691         3    Q1       1161.0                 8.0      1161.0   \n",
       "66133         3    Q1        509.0                71.0       509.0   \n",
       "66534         3    Q1        741.0                28.0       741.0   \n",
       "123527        3   R32          NaN                 NaN         NaN   \n",
       "125650        3   R32          NaN                 NaN         NaN   \n",
       "\n",
       "        loser_rank_points  \n",
       "63691                 8.0  \n",
       "66133                71.0  \n",
       "66534                28.0  \n",
       "123527                NaN  \n",
       "125650                NaN  "
      ]
     },
     "execution_count": 79,
     "metadata": {},
     "output_type": "execute_result"
    }
   ],
   "source": [
    "match[match['winner_id'] == match['loser_id']]"
   ]
  },
  {
   "cell_type": "markdown",
   "metadata": {},
   "source": [
    "Avendo pochi records, li rimuoviamo"
   ]
  },
  {
   "cell_type": "code",
   "execution_count": 80,
   "metadata": {},
   "outputs": [],
   "source": [
    "match.drop(match[match['winner_id'] == match['loser_id']].index, inplace=True)"
   ]
  },
  {
   "cell_type": "code",
   "execution_count": 81,
   "metadata": {},
   "outputs": [
    {
     "data": {
      "text/html": [
       "<div>\n",
       "<style scoped>\n",
       "    .dataframe tbody tr th:only-of-type {\n",
       "        vertical-align: middle;\n",
       "    }\n",
       "\n",
       "    .dataframe tbody tr th {\n",
       "        vertical-align: top;\n",
       "    }\n",
       "\n",
       "    .dataframe thead th {\n",
       "        text-align: right;\n",
       "    }\n",
       "</style>\n",
       "<table border=\"1\" class=\"dataframe\">\n",
       "  <thead>\n",
       "    <tr style=\"text-align: right;\">\n",
       "      <th></th>\n",
       "      <th>tourney_id</th>\n",
       "      <th>match_id</th>\n",
       "      <th>winner_id</th>\n",
       "      <th>loser_id</th>\n",
       "      <th>score</th>\n",
       "      <th>best_of</th>\n",
       "      <th>round</th>\n",
       "      <th>winner_rank</th>\n",
       "      <th>winner_rank_points</th>\n",
       "      <th>loser_rank</th>\n",
       "      <th>loser_rank_points</th>\n",
       "    </tr>\n",
       "  </thead>\n",
       "  <tbody>\n",
       "  </tbody>\n",
       "</table>\n",
       "</div>"
      ],
      "text/plain": [
       "Empty DataFrame\n",
       "Columns: [tourney_id, match_id, winner_id, loser_id, score, best_of, round, winner_rank, winner_rank_points, loser_rank, loser_rank_points]\n",
       "Index: []"
      ]
     },
     "execution_count": 81,
     "metadata": {},
     "output_type": "execute_result"
    }
   ],
   "source": [
    "match[match['winner_id'] == match['loser_id']]"
   ]
  },
  {
   "cell_type": "code",
   "execution_count": 82,
   "metadata": {},
   "outputs": [
    {
     "data": {
      "text/plain": [
       "(185590, 11)"
      ]
     },
     "execution_count": 82,
     "metadata": {},
     "output_type": "execute_result"
    }
   ],
   "source": [
    "match.shape"
   ]
  },
  {
   "cell_type": "code",
   "execution_count": 83,
   "metadata": {},
   "outputs": [
    {
     "data": {
      "text/plain": [
       "tourney_id                0\n",
       "match_id                  0\n",
       "winner_id                 0\n",
       "loser_id                  0\n",
       "score                     0\n",
       "best_of                   0\n",
       "round                     0\n",
       "winner_rank           19342\n",
       "winner_rank_points    19358\n",
       "loser_rank            35204\n",
       "loser_rank_points     35220\n",
       "dtype: int64"
      ]
     },
     "execution_count": 83,
     "metadata": {},
     "output_type": "execute_result"
    }
   ],
   "source": [
    "match.isnull().sum()"
   ]
  },
  {
   "cell_type": "markdown",
   "metadata": {},
   "source": [
    "# Missing values: winner_rank, winner_rank_points, loser_rank, loser_rank_points"
   ]
  },
  {
   "cell_type": "markdown",
   "metadata": {},
   "source": [
    "Vediamo le distribuzioni delle colonne, prima di gestire i missing values"
   ]
  },
  {
   "cell_type": "code",
   "execution_count": 84,
   "metadata": {},
   "outputs": [
    {
     "data": {
      "text/plain": [
       "array([[<matplotlib.axes._subplots.AxesSubplot object at 0x00000191C783CFA0>]],\n",
       "      dtype=object)"
      ]
     },
     "execution_count": 84,
     "metadata": {},
     "output_type": "execute_result"
    },
    {
     "data": {
      "image/png": "[encoded data removed]",
      "text/plain": [
       "<Figure size 432x288 with 1 Axes>"
      ]
     },
     "metadata": {
      "needs_background": "light"
     },
     "output_type": "display_data"
    },
    {
     "data": {
      "image/png": "[encoded data removed]",
      "text/plain": [
       "<Figure size 432x288 with 1 Axes>"
      ]
     },
     "metadata": {
      "needs_background": "light"
     },
     "output_type": "display_data"
    },
    {
     "data": {
      "image/png": "[encoded data removed]",
      "text/plain": [
       "<Figure size 432x288 with 1 Axes>"
      ]
     },
     "metadata": {
      "needs_background": "light"
     },
     "output_type": "display_data"
    },
    {
     "data": {
      "image/png": "[encoded data removed]",
      "text/plain": [
       "<Figure size 432x288 with 1 Axes>"
      ]
     },
     "metadata": {
      "needs_background": "light"
     },
     "output_type": "display_data"
    }
   ],
   "source": [
    "match.hist(column='winner_rank')\n",
    "match.hist(column='winner_rank_points')\n",
    "match.hist(column='loser_rank')\n",
    "match.hist(column='loser_rank_points')"
   ]
  },
  {
   "cell_type": "markdown",
   "metadata": {},
   "source": [
    "Importo \"tournament\" e \"date\" per riuscire a ricavare la colonna \"year\""
   ]
  },
  {
   "cell_type": "code",
   "execution_count": 85,
   "metadata": {},
   "outputs": [],
   "source": [
    "tournament= pd.read_csv(r\"C:\\Users\\giada\\Desktop\\PROGETTO LAB\\data2021\\tournament_finale.csv\")\n",
    "date= pd.read_csv(r\"C:\\Users\\giada\\Desktop\\PROGETTO LAB\\data2021\\date.csv\")"
   ]
  },
  {
   "cell_type": "code",
   "execution_count": 86,
   "metadata": {},
   "outputs": [],
   "source": [
    "tour=pd.merge(date, tournament, how='inner', left_on = 'date_id', right_on = 'date_id')"
   ]
  },
  {
   "cell_type": "code",
   "execution_count": 87,
   "metadata": {},
   "outputs": [
    {
     "data": {
      "text/html": [
       "<div>\n",
       "<style scoped>\n",
       "    .dataframe tbody tr th:only-of-type {\n",
       "        vertical-align: middle;\n",
       "    }\n",
       "\n",
       "    .dataframe tbody tr th {\n",
       "        vertical-align: top;\n",
       "    }\n",
       "\n",
       "    .dataframe thead th {\n",
       "        text-align: right;\n",
       "    }\n",
       "</style>\n",
       "<table border=\"1\" class=\"dataframe\">\n",
       "  <thead>\n",
       "    <tr style=\"text-align: right;\">\n",
       "      <th></th>\n",
       "      <th>date_id</th>\n",
       "      <th>day</th>\n",
       "      <th>month</th>\n",
       "      <th>year</th>\n",
       "      <th>quarter</th>\n",
       "      <th>tourney_id</th>\n",
       "      <th>tourney_name</th>\n",
       "      <th>surface</th>\n",
       "      <th>draw_size</th>\n",
       "      <th>tourney_level</th>\n",
       "      <th>tourney_spectators</th>\n",
       "      <th>tourney_revenue</th>\n",
       "    </tr>\n",
       "  </thead>\n",
       "  <tbody>\n",
       "    <tr>\n",
       "      <th>0</th>\n",
       "      <td>20160815</td>\n",
       "      <td>15</td>\n",
       "      <td>8</td>\n",
       "      <td>2016</td>\n",
       "      <td>Quarter-3</td>\n",
       "      <td>2016-W-C10-AUT-03A-2016/10/graz $10k</td>\n",
       "      <td>Graz $10K</td>\n",
       "      <td>Clay</td>\n",
       "      <td>32</td>\n",
       "      <td>10</td>\n",
       "      <td>3315</td>\n",
       "      <td>748155.54</td>\n",
       "    </tr>\n",
       "    <tr>\n",
       "      <th>1</th>\n",
       "      <td>20160815</td>\n",
       "      <td>15</td>\n",
       "      <td>8</td>\n",
       "      <td>2016</td>\n",
       "      <td>Quarter-3</td>\n",
       "      <td>2016-W-C10-COL-01A-2016/10/medellin $10k</td>\n",
       "      <td>Medellin $10K</td>\n",
       "      <td>Clay</td>\n",
       "      <td>32</td>\n",
       "      <td>10</td>\n",
       "      <td>3908</td>\n",
       "      <td>695295.94</td>\n",
       "    </tr>\n",
       "    <tr>\n",
       "      <th>2</th>\n",
       "      <td>20160815</td>\n",
       "      <td>15</td>\n",
       "      <td>8</td>\n",
       "      <td>2016</td>\n",
       "      <td>Quarter-3</td>\n",
       "      <td>2016-W-C10-EGY-32A-2016/10/sharm el sheikh $10k</td>\n",
       "      <td>Sharm El Sheikh $10K</td>\n",
       "      <td>Hard</td>\n",
       "      <td>32</td>\n",
       "      <td>10</td>\n",
       "      <td>3057</td>\n",
       "      <td>701918.85</td>\n",
       "    </tr>\n",
       "    <tr>\n",
       "      <th>3</th>\n",
       "      <td>20160815</td>\n",
       "      <td>15</td>\n",
       "      <td>8</td>\n",
       "      <td>2016</td>\n",
       "      <td>Quarter-3</td>\n",
       "      <td>2016-W-C10-ESP-13A-2016/10/las palmas de gran ...</td>\n",
       "      <td>Las Palmas de Gran Canaria $10K</td>\n",
       "      <td>Clay</td>\n",
       "      <td>32</td>\n",
       "      <td>10</td>\n",
       "      <td>3001</td>\n",
       "      <td>753530.43</td>\n",
       "    </tr>\n",
       "    <tr>\n",
       "      <th>4</th>\n",
       "      <td>20160815</td>\n",
       "      <td>15</td>\n",
       "      <td>8</td>\n",
       "      <td>2016</td>\n",
       "      <td>Quarter-3</td>\n",
       "      <td>2016-W-C10-ITA-12A-2016/10/sezze $10k</td>\n",
       "      <td>Sezze $10K</td>\n",
       "      <td>Clay</td>\n",
       "      <td>32</td>\n",
       "      <td>10</td>\n",
       "      <td>2749</td>\n",
       "      <td>473311.56</td>\n",
       "    </tr>\n",
       "  </tbody>\n",
       "</table>\n",
       "</div>"
      ],
      "text/plain": [
       "    date_id  day  month  year    quarter  \\\n",
       "0  20160815   15      8  2016  Quarter-3   \n",
       "1  20160815   15      8  2016  Quarter-3   \n",
       "2  20160815   15      8  2016  Quarter-3   \n",
       "3  20160815   15      8  2016  Quarter-3   \n",
       "4  20160815   15      8  2016  Quarter-3   \n",
       "\n",
       "                                          tourney_id  \\\n",
       "0               2016-W-C10-AUT-03A-2016/10/graz $10k   \n",
       "1           2016-W-C10-COL-01A-2016/10/medellin $10k   \n",
       "2    2016-W-C10-EGY-32A-2016/10/sharm el sheikh $10k   \n",
       "3  2016-W-C10-ESP-13A-2016/10/las palmas de gran ...   \n",
       "4              2016-W-C10-ITA-12A-2016/10/sezze $10k   \n",
       "\n",
       "                      tourney_name surface  draw_size tourney_level  \\\n",
       "0                        Graz $10K    Clay         32            10   \n",
       "1                    Medellin $10K    Clay         32            10   \n",
       "2             Sharm El Sheikh $10K    Hard         32            10   \n",
       "3  Las Palmas de Gran Canaria $10K    Clay         32            10   \n",
       "4                       Sezze $10K    Clay         32            10   \n",
       "\n",
       "   tourney_spectators  tourney_revenue  \n",
       "0                3315        748155.54  \n",
       "1                3908        695295.94  \n",
       "2                3057        701918.85  \n",
       "3                3001        753530.43  \n",
       "4                2749        473311.56  "
      ]
     },
     "execution_count": 87,
     "metadata": {},
     "output_type": "execute_result"
    }
   ],
   "source": [
    "tour.head()"
   ]
  },
  {
   "cell_type": "markdown",
   "metadata": {},
   "source": [
    "Dopo aver effettuato la JOIN, vengono rimosse le colonne non necessarie, tenendo solo la colonna \"year\""
   ]
  },
  {
   "cell_type": "code",
   "execution_count": 88,
   "metadata": {},
   "outputs": [],
   "source": [
    "merged= pd.merge(match, tour, how='inner', left_on = 'tourney_id', right_on = 'tourney_id')\n",
    "merged.drop(columns=['tourney_name','surface','draw_size',\n",
    "                     'tourney_level','tourney_spectators',\n",
    "                     'tourney_revenue','date_id','month','quarter','day'], inplace=True)"
   ]
  },
  {
   "cell_type": "code",
   "execution_count": 89,
   "metadata": {},
   "outputs": [
    {
     "data": {
      "text/html": [
       "<div>\n",
       "<style scoped>\n",
       "    .dataframe tbody tr th:only-of-type {\n",
       "        vertical-align: middle;\n",
       "    }\n",
       "\n",
       "    .dataframe tbody tr th {\n",
       "        vertical-align: top;\n",
       "    }\n",
       "\n",
       "    .dataframe thead th {\n",
       "        text-align: right;\n",
       "    }\n",
       "</style>\n",
       "<table border=\"1\" class=\"dataframe\">\n",
       "  <thead>\n",
       "    <tr style=\"text-align: right;\">\n",
       "      <th></th>\n",
       "      <th>tourney_id</th>\n",
       "      <th>match_id</th>\n",
       "      <th>winner_id</th>\n",
       "      <th>loser_id</th>\n",
       "      <th>score</th>\n",
       "      <th>best_of</th>\n",
       "      <th>round</th>\n",
       "      <th>winner_rank</th>\n",
       "      <th>winner_rank_points</th>\n",
       "      <th>loser_rank</th>\n",
       "      <th>loser_rank_points</th>\n",
       "      <th>year</th>\n",
       "    </tr>\n",
       "  </thead>\n",
       "  <tbody>\n",
       "    <tr>\n",
       "      <th>0</th>\n",
       "      <td>2019-M020/A/brisbane</td>\n",
       "      <td>300/2019-M020</td>\n",
       "      <td>105453</td>\n",
       "      <td>106421</td>\n",
       "      <td>6-4 3-6 6-2</td>\n",
       "      <td>3</td>\n",
       "      <td>F</td>\n",
       "      <td>9.0</td>\n",
       "      <td>3590.0</td>\n",
       "      <td>16.0</td>\n",
       "      <td>1977.0</td>\n",
       "      <td>2018</td>\n",
       "    </tr>\n",
       "    <tr>\n",
       "      <th>1</th>\n",
       "      <td>2019-M020/A/brisbane</td>\n",
       "      <td>299/2019-M020</td>\n",
       "      <td>106421</td>\n",
       "      <td>104542</td>\n",
       "      <td>7-6(6) 6-2</td>\n",
       "      <td>3</td>\n",
       "      <td>SF</td>\n",
       "      <td>16.0</td>\n",
       "      <td>1977.0</td>\n",
       "      <td>239.0</td>\n",
       "      <td>200.0</td>\n",
       "      <td>2018</td>\n",
       "    </tr>\n",
       "    <tr>\n",
       "      <th>2</th>\n",
       "      <td>2019-M020/A/brisbane</td>\n",
       "      <td>298/2019-M020</td>\n",
       "      <td>105453</td>\n",
       "      <td>104871</td>\n",
       "      <td>6-2 6-2</td>\n",
       "      <td>3</td>\n",
       "      <td>SF</td>\n",
       "      <td>9.0</td>\n",
       "      <td>3590.0</td>\n",
       "      <td>40.0</td>\n",
       "      <td>1050.0</td>\n",
       "      <td>2018</td>\n",
       "    </tr>\n",
       "    <tr>\n",
       "      <th>3</th>\n",
       "      <td>2019-M020/A/brisbane</td>\n",
       "      <td>297/2019-M020</td>\n",
       "      <td>104542</td>\n",
       "      <td>200282</td>\n",
       "      <td>6-4 7-6(2)</td>\n",
       "      <td>3</td>\n",
       "      <td>QF</td>\n",
       "      <td>239.0</td>\n",
       "      <td>200.0</td>\n",
       "      <td>31.0</td>\n",
       "      <td>1298.0</td>\n",
       "      <td>2018</td>\n",
       "    </tr>\n",
       "    <tr>\n",
       "      <th>4</th>\n",
       "      <td>2019-M020/A/brisbane</td>\n",
       "      <td>296/2019-M020</td>\n",
       "      <td>106421</td>\n",
       "      <td>105683</td>\n",
       "      <td>6-7(2) 6-3 6-4</td>\n",
       "      <td>3</td>\n",
       "      <td>QF</td>\n",
       "      <td>16.0</td>\n",
       "      <td>1977.0</td>\n",
       "      <td>18.0</td>\n",
       "      <td>1855.0</td>\n",
       "      <td>2018</td>\n",
       "    </tr>\n",
       "  </tbody>\n",
       "</table>\n",
       "</div>"
      ],
      "text/plain": [
       "             tourney_id       match_id  winner_id  loser_id           score  \\\n",
       "0  2019-M020/A/brisbane  300/2019-M020     105453    106421     6-4 3-6 6-2   \n",
       "1  2019-M020/A/brisbane  299/2019-M020     106421    104542      7-6(6) 6-2   \n",
       "2  2019-M020/A/brisbane  298/2019-M020     105453    104871         6-2 6-2   \n",
       "3  2019-M020/A/brisbane  297/2019-M020     104542    200282      6-4 7-6(2)   \n",
       "4  2019-M020/A/brisbane  296/2019-M020     106421    105683  6-7(2) 6-3 6-4   \n",
       "\n",
       "   best_of round  winner_rank  winner_rank_points  loser_rank  \\\n",
       "0        3     F          9.0              3590.0        16.0   \n",
       "1        3    SF         16.0              1977.0       239.0   \n",
       "2        3    SF          9.0              3590.0        40.0   \n",
       "3        3    QF        239.0               200.0        31.0   \n",
       "4        3    QF         16.0              1977.0        18.0   \n",
       "\n",
       "   loser_rank_points  year  \n",
       "0             1977.0  2018  \n",
       "1              200.0  2018  \n",
       "2             1050.0  2018  \n",
       "3             1298.0  2018  \n",
       "4             1855.0  2018  "
      ]
     },
     "execution_count": 89,
     "metadata": {},
     "output_type": "execute_result"
    }
   ],
   "source": [
    "merged.head()"
   ]
  },
  {
   "cell_type": "markdown",
   "metadata": {},
   "source": [
    "Per sostituire i missing values delle 4 colonne, viene effettuata una media, raggruppando per anno e id del giocatore. Questo perchè il rank rappresenta un insieme di punteggi ottenuti nell'anno passato da parte di un giocatore. "
   ]
  },
  {
   "cell_type": "code",
   "execution_count": 90,
   "metadata": {},
   "outputs": [],
   "source": [
    "match['winner_rank'] = merged.groupby(['year', 'winner_id'])['winner_rank'].transform(lambda x: x.fillna(x.mean()))"
   ]
  },
  {
   "cell_type": "code",
   "execution_count": 91,
   "metadata": {},
   "outputs": [],
   "source": [
    "match['loser_rank'] = merged.groupby(['year', 'loser_id'])['loser_rank'].transform(lambda x: x.fillna(x.mean()))"
   ]
  },
  {
   "cell_type": "code",
   "execution_count": 92,
   "metadata": {},
   "outputs": [],
   "source": [
    "match['winner_rank_points'] = merged.groupby(['year', 'winner_id'])['winner_rank_points'].transform(lambda x: x.fillna(x.mean()))"
   ]
  },
  {
   "cell_type": "code",
   "execution_count": 93,
   "metadata": {},
   "outputs": [],
   "source": [
    "match['loser_rank_points'] = merged.groupby(['year', 'loser_id'])['loser_rank_points'].transform(lambda x: x.fillna(x.mean()))"
   ]
  },
  {
   "cell_type": "markdown",
   "metadata": {},
   "source": [
    "Alcuni missing values non siano stati sostituiti, ciò potrebbe essere dovuta al fatto che per alcuni winner_id o loser_id non viene individuato nessuno winner_rank/loser_rank su cui fare la media. "
   ]
  },
  {
   "cell_type": "code",
   "execution_count": 94,
   "metadata": {
    "scrolled": true
   },
   "outputs": [
    {
     "data": {
      "text/plain": [
       "tourney_id                0\n",
       "match_id                  0\n",
       "winner_id                 0\n",
       "loser_id                  0\n",
       "score                     0\n",
       "best_of                   0\n",
       "round                     0\n",
       "winner_rank           12131\n",
       "winner_rank_points    12154\n",
       "loser_rank            26869\n",
       "loser_rank_points     26887\n",
       "dtype: int64"
      ]
     },
     "execution_count": 94,
     "metadata": {},
     "output_type": "execute_result"
    }
   ],
   "source": [
    "#il totale dei missing values rimasti è il seguente:\n",
    "match.isnull().sum()"
   ]
  },
  {
   "cell_type": "code",
   "execution_count": 95,
   "metadata": {},
   "outputs": [
    {
     "data": {
      "text/plain": [
       "array([[<matplotlib.axes._subplots.AxesSubplot object at 0x00000191CDB14E80>]],\n",
       "      dtype=object)"
      ]
     },
     "execution_count": 95,
     "metadata": {},
     "output_type": "execute_result"
    },
    {
     "data": {
      "image/png": "[encoded data removed]",
      "text/plain": [
       "<Figure size 432x288 with 1 Axes>"
      ]
     },
     "metadata": {
      "needs_background": "light"
     },
     "output_type": "display_data"
    },
    {
     "data": {
      "image/png": "[encoded data removed]",
      "text/plain": [
       "<Figure size 432x288 with 1 Axes>"
      ]
     },
     "metadata": {
      "needs_background": "light"
     },
     "output_type": "display_data"
    },
    {
     "data": {
      "image/png": "[encoded data removed]",
      "text/plain": [
       "<Figure size 432x288 with 1 Axes>"
      ]
     },
     "metadata": {
      "needs_background": "light"
     },
     "output_type": "display_data"
    },
    {
     "data": {
      "image/png": "[encoded data removed]",
      "text/plain": [
       "<Figure size 432x288 with 1 Axes>"
      ]
     },
     "metadata": {
      "needs_background": "light"
     },
     "output_type": "display_data"
    }
   ],
   "source": [
    "#vediamo le distribuzioni delle colonne con valori nulli\n",
    "match.hist(column='winner_rank')\n",
    "match.hist(column='winner_rank_points')\n",
    "match.hist(column='loser_rank')\n",
    "match.hist(column='loser_rank_points')"
   ]
  },
  {
   "cell_type": "markdown",
   "metadata": {},
   "source": [
    "Per i restanti missing values, si procederà alla sostituzione con il valore \"-1\" nelle righe corrispondenti. "
   ]
  },
  {
   "cell_type": "code",
   "execution_count": 96,
   "metadata": {},
   "outputs": [],
   "source": [
    "match['winner_rank'] = match['winner_rank'].replace(np.nan, -1)\n",
    "match['loser_rank'] = match['winner_rank'].replace(np.nan, -1)\n",
    "match['winner_rank_points'] = match['winner_rank_points'].replace(np.nan, -1)\n",
    "match['loser_rank_points'] = match['winner_rank_points'].replace(np.nan, -1)"
   ]
  },
  {
   "cell_type": "code",
   "execution_count": 97,
   "metadata": {},
   "outputs": [
    {
     "data": {
      "text/plain": [
       "tourney_id            0\n",
       "match_id              0\n",
       "winner_id             0\n",
       "loser_id              0\n",
       "score                 0\n",
       "best_of               0\n",
       "round                 0\n",
       "winner_rank           0\n",
       "winner_rank_points    0\n",
       "loser_rank            0\n",
       "loser_rank_points     0\n",
       "dtype: int64"
      ]
     },
     "execution_count": 97,
     "metadata": {},
     "output_type": "execute_result"
    }
   ],
   "source": [
    "match.isnull().sum()"
   ]
  },
  {
   "cell_type": "code",
   "execution_count": 98,
   "metadata": {},
   "outputs": [
    {
     "data": {
      "text/plain": [
       "(185590, 11)"
      ]
     },
     "execution_count": 98,
     "metadata": {},
     "output_type": "execute_result"
    }
   ],
   "source": [
    "match.shape"
   ]
  },
  {
   "cell_type": "markdown",
   "metadata": {},
   "source": [
    "##  Convertiamo i seguenti attributi in \"Int\""
   ]
  },
  {
   "cell_type": "code",
   "execution_count": 99,
   "metadata": {},
   "outputs": [],
   "source": [
    "match['best_of'] = match['best_of'].astype(int)\n",
    "match['winner_rank'] = match['winner_rank'].astype(int)\n",
    "match['loser_rank'] = match['winner_rank'].astype(int)\n",
    "match['winner_rank_points'] = match['winner_rank_points'].astype(int)\n",
    "match['loser_rank_points'] = match['winner_rank_points'].astype(int)"
   ]
  },
  {
   "cell_type": "code",
   "execution_count": 100,
   "metadata": {},
   "outputs": [],
   "source": [
    "#salvare il dataset \n",
    "match.to_csv(r'C:\\Users\\giada\\Desktop\\PROGETTO LAB\\tab da inserire\\match_clean.csv', index = False, header = True)"
   ]
  }
 ],
 "metadata": {
  "kernelspec": {
   "display_name": "Python 3",
   "language": "python",
   "name": "python3"
  },
  "language_info": {
   "codemirror_mode": {
    "name": "ipython",
    "version": 3
   },
   "file_extension": ".py",
   "mimetype": "text/x-python",
   "name": "python",
   "nbconvert_exporter": "python",
   "pygments_lexer": "ipython3",
   "version": "3.8.5"
  }
 },
 "nbformat": 4,
 "nbformat_minor": 4
}
