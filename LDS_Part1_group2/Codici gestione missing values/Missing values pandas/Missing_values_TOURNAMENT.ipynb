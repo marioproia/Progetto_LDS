{
 "cells": [
  {
   "cell_type": "code",
   "execution_count": 38,
   "metadata": {},
   "outputs": [],
   "source": [
    "import pandas as pd\n",
    "import numpy as np"
   ]
  },
  {
   "cell_type": "code",
   "execution_count": 39,
   "metadata": {},
   "outputs": [],
   "source": [
    "tournament= pd.read_csv(r\"C:\\Users\\giada\\Desktop\\PROGETTO LAB\\data2021\\tournament_finale.csv\")"
   ]
  },
  {
   "cell_type": "code",
   "execution_count": 40,
   "metadata": {},
   "outputs": [
    {
     "data": {
      "text/html": [
       "<div>\n",
       "<style scoped>\n",
       "    .dataframe tbody tr th:only-of-type {\n",
       "        vertical-align: middle;\n",
       "    }\n",
       "\n",
       "    .dataframe tbody tr th {\n",
       "        vertical-align: top;\n",
       "    }\n",
       "\n",
       "    .dataframe thead th {\n",
       "        text-align: right;\n",
       "    }\n",
       "</style>\n",
       "<table border=\"1\" class=\"dataframe\">\n",
       "  <thead>\n",
       "    <tr style=\"text-align: right;\">\n",
       "      <th></th>\n",
       "      <th>tourney_id</th>\n",
       "      <th>date_id</th>\n",
       "      <th>tourney_name</th>\n",
       "      <th>surface</th>\n",
       "      <th>draw_size</th>\n",
       "      <th>tourney_level</th>\n",
       "      <th>tourney_spectators</th>\n",
       "      <th>tourney_revenue</th>\n",
       "    </tr>\n",
       "  </thead>\n",
       "  <tbody>\n",
       "    <tr>\n",
       "      <th>0</th>\n",
       "      <td>2019-M020/A/brisbane</td>\n",
       "      <td>20181231</td>\n",
       "      <td>Brisbane</td>\n",
       "      <td>Hard</td>\n",
       "      <td>32</td>\n",
       "      <td>A</td>\n",
       "      <td>3928</td>\n",
       "      <td>742618.69</td>\n",
       "    </tr>\n",
       "    <tr>\n",
       "      <th>1</th>\n",
       "      <td>2019-M020/P/brisbane</td>\n",
       "      <td>20181231</td>\n",
       "      <td>Brisbane</td>\n",
       "      <td>Hard</td>\n",
       "      <td>32</td>\n",
       "      <td>P</td>\n",
       "      <td>3928</td>\n",
       "      <td>742618.69</td>\n",
       "    </tr>\n",
       "    <tr>\n",
       "      <th>2</th>\n",
       "      <td>2019-0451/A/doha</td>\n",
       "      <td>20181231</td>\n",
       "      <td>Doha</td>\n",
       "      <td>Hard</td>\n",
       "      <td>32</td>\n",
       "      <td>A</td>\n",
       "      <td>2923</td>\n",
       "      <td>550943.19</td>\n",
       "    </tr>\n",
       "    <tr>\n",
       "      <th>3</th>\n",
       "      <td>2019-0891/A/pune</td>\n",
       "      <td>20181231</td>\n",
       "      <td>Pune</td>\n",
       "      <td>Hard</td>\n",
       "      <td>32</td>\n",
       "      <td>A</td>\n",
       "      <td>4062</td>\n",
       "      <td>1005592.39</td>\n",
       "    </tr>\n",
       "    <tr>\n",
       "      <th>4</th>\n",
       "      <td>2019-0301/A/auckland</td>\n",
       "      <td>20190107</td>\n",
       "      <td>Auckland</td>\n",
       "      <td>Hard</td>\n",
       "      <td>32</td>\n",
       "      <td>A</td>\n",
       "      <td>2784</td>\n",
       "      <td>489426.09</td>\n",
       "    </tr>\n",
       "  </tbody>\n",
       "</table>\n",
       "</div>"
      ],
      "text/plain": [
       "             tourney_id   date_id tourney_name surface  draw_size  \\\n",
       "0  2019-M020/A/brisbane  20181231     Brisbane    Hard         32   \n",
       "1  2019-M020/P/brisbane  20181231     Brisbane    Hard         32   \n",
       "2      2019-0451/A/doha  20181231         Doha    Hard         32   \n",
       "3      2019-0891/A/pune  20181231         Pune    Hard         32   \n",
       "4  2019-0301/A/auckland  20190107     Auckland    Hard         32   \n",
       "\n",
       "  tourney_level  tourney_spectators  tourney_revenue  \n",
       "0             A                3928        742618.69  \n",
       "1             P                3928        742618.69  \n",
       "2             A                2923        550943.19  \n",
       "3             A                4062       1005592.39  \n",
       "4             A                2784        489426.09  "
      ]
     },
     "execution_count": 40,
     "metadata": {},
     "output_type": "execute_result"
    }
   ],
   "source": [
    "tournament.head()"
   ]
  },
  {
   "cell_type": "code",
   "execution_count": 41,
   "metadata": {},
   "outputs": [
    {
     "data": {
      "text/plain": [
       "(4911, 8)"
      ]
     },
     "execution_count": 41,
     "metadata": {},
     "output_type": "execute_result"
    }
   ],
   "source": [
    "tournament.shape"
   ]
  },
  {
   "cell_type": "code",
   "execution_count": 42,
   "metadata": {},
   "outputs": [
    {
     "data": {
      "text/plain": [
       "(4911,)"
      ]
     },
     "execution_count": 42,
     "metadata": {},
     "output_type": "execute_result"
    }
   ],
   "source": [
    "#controllo se ha duplciati\n",
    "column_values = tournament[[\"tourney_id\"]].values.ravel()\n",
    "unique_values =  pd.unique(column_values)\n",
    "unique_values.shape"
   ]
  },
  {
   "cell_type": "code",
   "execution_count": 43,
   "metadata": {},
   "outputs": [
    {
     "data": {
      "text/plain": [
       "tourney_id             0\n",
       "date_id                0\n",
       "tourney_name           0\n",
       "surface               62\n",
       "draw_size              0\n",
       "tourney_level          0\n",
       "tourney_spectators     0\n",
       "tourney_revenue        0\n",
       "dtype: int64"
      ]
     },
     "execution_count": 43,
     "metadata": {},
     "output_type": "execute_result"
    }
   ],
   "source": [
    "#vediamo se ci sono valori nulli\n",
    "tournament.isnull().sum()"
   ]
  },
  {
   "cell_type": "code",
   "execution_count": 44,
   "metadata": {},
   "outputs": [
    {
     "data": {
      "text/plain": [
       "Hard      2599\n",
       "Clay      2052\n",
       "Grass      110\n",
       "Carpet      88\n",
       "Name: surface, dtype: int64"
      ]
     },
     "execution_count": 44,
     "metadata": {},
     "output_type": "execute_result"
    }
   ],
   "source": [
    "#vediamo quali sono le distribuzioni di questo attributo\n",
    "tournament[\"surface\"].value_counts()"
   ]
  },
  {
   "cell_type": "code",
   "execution_count": 45,
   "metadata": {},
   "outputs": [],
   "source": [
    "#avendo pochi valori nulli, li sostituisco con la moda\n",
    "tournament['surface'] = tournament['surface'].replace(np.nan,\"Hard\")"
   ]
  },
  {
   "cell_type": "code",
   "execution_count": 46,
   "metadata": {},
   "outputs": [
    {
     "data": {
      "text/plain": [
       "tourney_id            0\n",
       "date_id               0\n",
       "tourney_name          0\n",
       "surface               0\n",
       "draw_size             0\n",
       "tourney_level         0\n",
       "tourney_spectators    0\n",
       "tourney_revenue       0\n",
       "dtype: int64"
      ]
     },
     "execution_count": 46,
     "metadata": {},
     "output_type": "execute_result"
    }
   ],
   "source": [
    "#controlliamo se sono stati rimossi\n",
    "tournament.isnull().sum()"
   ]
  },
  {
   "cell_type": "code",
   "execution_count": 47,
   "metadata": {},
   "outputs": [],
   "source": [
    "#salvare il dataset \n",
    "tournament.to_csv(r'C:\\Users\\giada\\Desktop\\PROGETTO LAB\\tab da inserire\\tournament_clean.csv', index = False, header = True)\n"
   ]
  }
 ],
 "metadata": {
  "kernelspec": {
   "display_name": "Python 3",
   "language": "python",
   "name": "python3"
  },
  "language_info": {
   "codemirror_mode": {
    "name": "ipython",
    "version": 3
   },
   "file_extension": ".py",
   "mimetype": "text/x-python",
   "name": "python",
   "nbconvert_exporter": "python",
   "pygments_lexer": "ipython3",
   "version": "3.8.5"
  }
 },
 "nbformat": 4,
 "nbformat_minor": 4
}
