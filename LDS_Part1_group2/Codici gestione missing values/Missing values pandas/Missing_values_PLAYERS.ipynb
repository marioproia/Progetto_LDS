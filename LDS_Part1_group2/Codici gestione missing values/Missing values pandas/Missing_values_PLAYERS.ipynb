{
 "cells": [
  {
   "cell_type": "code",
   "execution_count": 40,
   "metadata": {},
   "outputs": [],
   "source": [
    "import pandas as pd\n",
    "import numpy as np\n",
    "import statistics\n",
    "import matplotlib.pyplot as plt\n",
    "from matplotlib.ticker import StrMethodFormatter"
   ]
  },
  {
   "cell_type": "code",
   "execution_count": 41,
   "metadata": {},
   "outputs": [],
   "source": [
    "players= pd.read_csv(r\"C:\\Users\\giada\\Desktop\\PROGETTO LAB\\data2021\\players_finale.csv\")"
   ]
  },
  {
   "cell_type": "code",
   "execution_count": 42,
   "metadata": {},
   "outputs": [
    {
     "data": {
      "text/html": [
       "<div>\n",
       "<style scoped>\n",
       "    .dataframe tbody tr th:only-of-type {\n",
       "        vertical-align: middle;\n",
       "    }\n",
       "\n",
       "    .dataframe tbody tr th {\n",
       "        vertical-align: top;\n",
       "    }\n",
       "\n",
       "    .dataframe thead th {\n",
       "        text-align: right;\n",
       "    }\n",
       "</style>\n",
       "<table border=\"1\" class=\"dataframe\">\n",
       "  <thead>\n",
       "    <tr style=\"text-align: right;\">\n",
       "      <th></th>\n",
       "      <th>player_id</th>\n",
       "      <th>country_id</th>\n",
       "      <th>name</th>\n",
       "      <th>hand</th>\n",
       "      <th>ht</th>\n",
       "      <th>byear_of_birth</th>\n",
       "      <th>sex</th>\n",
       "    </tr>\n",
       "  </thead>\n",
       "  <tbody>\n",
       "    <tr>\n",
       "      <th>0</th>\n",
       "      <td>105453</td>\n",
       "      <td>JPN</td>\n",
       "      <td>Kei Nishikori</td>\n",
       "      <td>R</td>\n",
       "      <td>178.0</td>\n",
       "      <td>1989.0</td>\n",
       "      <td>M</td>\n",
       "    </tr>\n",
       "    <tr>\n",
       "      <th>1</th>\n",
       "      <td>106421</td>\n",
       "      <td>RUS</td>\n",
       "      <td>Daniil Medvedev</td>\n",
       "      <td>R</td>\n",
       "      <td>198.0</td>\n",
       "      <td>1996.0</td>\n",
       "      <td>M</td>\n",
       "    </tr>\n",
       "    <tr>\n",
       "      <th>2</th>\n",
       "      <td>104542</td>\n",
       "      <td>FRA</td>\n",
       "      <td>Jo-Wilfried Tsonga</td>\n",
       "      <td>R</td>\n",
       "      <td>188.0</td>\n",
       "      <td>1985.0</td>\n",
       "      <td>NaN</td>\n",
       "    </tr>\n",
       "    <tr>\n",
       "      <th>3</th>\n",
       "      <td>104871</td>\n",
       "      <td>FRA</td>\n",
       "      <td>Jeremy Chardy</td>\n",
       "      <td>R</td>\n",
       "      <td>188.0</td>\n",
       "      <td>1987.0</td>\n",
       "      <td>M</td>\n",
       "    </tr>\n",
       "    <tr>\n",
       "      <th>4</th>\n",
       "      <td>200282</td>\n",
       "      <td>AUS</td>\n",
       "      <td>Alex De Minaur</td>\n",
       "      <td>R</td>\n",
       "      <td>183.0</td>\n",
       "      <td>1999.0</td>\n",
       "      <td>M</td>\n",
       "    </tr>\n",
       "    <tr>\n",
       "      <th>...</th>\n",
       "      <td>...</td>\n",
       "      <td>...</td>\n",
       "      <td>...</td>\n",
       "      <td>...</td>\n",
       "      <td>...</td>\n",
       "      <td>...</td>\n",
       "      <td>...</td>\n",
       "    </tr>\n",
       "    <tr>\n",
       "      <th>10118</th>\n",
       "      <td>245144</td>\n",
       "      <td>ITA</td>\n",
       "      <td>Marco Miceli</td>\n",
       "      <td>U</td>\n",
       "      <td>NaN</td>\n",
       "      <td>1999.0</td>\n",
       "      <td>M</td>\n",
       "    </tr>\n",
       "    <tr>\n",
       "      <th>10119</th>\n",
       "      <td>245145</td>\n",
       "      <td>GER</td>\n",
       "      <td>Marvin Moeller</td>\n",
       "      <td>U</td>\n",
       "      <td>NaN</td>\n",
       "      <td>2000.0</td>\n",
       "      <td>M</td>\n",
       "    </tr>\n",
       "    <tr>\n",
       "      <th>10120</th>\n",
       "      <td>245146</td>\n",
       "      <td>GER</td>\n",
       "      <td>Justin Schlageter</td>\n",
       "      <td>U</td>\n",
       "      <td>NaN</td>\n",
       "      <td>2001.0</td>\n",
       "      <td>M</td>\n",
       "    </tr>\n",
       "    <tr>\n",
       "      <th>10121</th>\n",
       "      <td>245147</td>\n",
       "      <td>BIH</td>\n",
       "      <td>Jasmina Tinjic</td>\n",
       "      <td>R</td>\n",
       "      <td>NaN</td>\n",
       "      <td>1991.0</td>\n",
       "      <td>F</td>\n",
       "    </tr>\n",
       "    <tr>\n",
       "      <th>10122</th>\n",
       "      <td>245148</td>\n",
       "      <td>ARG</td>\n",
       "      <td>Tobias Sonne</td>\n",
       "      <td>U</td>\n",
       "      <td>NaN</td>\n",
       "      <td>2000.0</td>\n",
       "      <td>M</td>\n",
       "    </tr>\n",
       "  </tbody>\n",
       "</table>\n",
       "<p>10123 rows × 7 columns</p>\n",
       "</div>"
      ],
      "text/plain": [
       "       player_id country_id                name hand     ht  byear_of_birth  \\\n",
       "0         105453        JPN       Kei Nishikori    R  178.0          1989.0   \n",
       "1         106421        RUS     Daniil Medvedev    R  198.0          1996.0   \n",
       "2         104542        FRA  Jo-Wilfried Tsonga    R  188.0          1985.0   \n",
       "3         104871        FRA       Jeremy Chardy    R  188.0          1987.0   \n",
       "4         200282        AUS      Alex De Minaur    R  183.0          1999.0   \n",
       "...          ...        ...                 ...  ...    ...             ...   \n",
       "10118     245144        ITA        Marco Miceli    U    NaN          1999.0   \n",
       "10119     245145        GER      Marvin Moeller    U    NaN          2000.0   \n",
       "10120     245146        GER   Justin Schlageter    U    NaN          2001.0   \n",
       "10121     245147        BIH      Jasmina Tinjic    R    NaN          1991.0   \n",
       "10122     245148        ARG        Tobias Sonne    U    NaN          2000.0   \n",
       "\n",
       "       sex  \n",
       "0        M  \n",
       "1        M  \n",
       "2      NaN  \n",
       "3        M  \n",
       "4        M  \n",
       "...    ...  \n",
       "10118    M  \n",
       "10119    M  \n",
       "10120    M  \n",
       "10121    F  \n",
       "10122    M  \n",
       "\n",
       "[10123 rows x 7 columns]"
      ]
     },
     "execution_count": 42,
     "metadata": {},
     "output_type": "execute_result"
    }
   ],
   "source": [
    "players"
   ]
  },
  {
   "cell_type": "code",
   "execution_count": 43,
   "metadata": {},
   "outputs": [
    {
     "data": {
      "text/plain": [
       "(10123, 7)"
      ]
     },
     "execution_count": 43,
     "metadata": {},
     "output_type": "execute_result"
    }
   ],
   "source": [
    "#controlliamo se ci sono duplicati rispetto alla Primary key \"player_id\"\n",
    "players.shape"
   ]
  },
  {
   "cell_type": "code",
   "execution_count": 44,
   "metadata": {},
   "outputs": [],
   "source": [
    "players.drop_duplicates(subset =\"player_id\",\n",
    "                     keep = False, inplace = True)"
   ]
  },
  {
   "cell_type": "code",
   "execution_count": 45,
   "metadata": {},
   "outputs": [
    {
     "data": {
      "text/plain": [
       "(10123, 7)"
      ]
     },
     "execution_count": 45,
     "metadata": {},
     "output_type": "execute_result"
    }
   ],
   "source": [
    "players.shape\n",
    "#non ci sono duplicati"
   ]
  },
  {
   "cell_type": "code",
   "execution_count": 46,
   "metadata": {},
   "outputs": [
    {
     "data": {
      "text/plain": [
       "player_id            0\n",
       "country_id           0\n",
       "name                 0\n",
       "hand                33\n",
       "ht                9599\n",
       "byear_of_birth    2110\n",
       "sex                 34\n",
       "dtype: int64"
      ]
     },
     "execution_count": 46,
     "metadata": {},
     "output_type": "execute_result"
    }
   ],
   "source": [
    "#vediamo quali sono i missing values\n",
    "players.isnull().sum()"
   ]
  },
  {
   "cell_type": "markdown",
   "metadata": {},
   "source": [
    "## Sex"
   ]
  },
  {
   "cell_type": "code",
   "execution_count": 47,
   "metadata": {
    "scrolled": false
   },
   "outputs": [
    {
     "data": {
      "text/html": [
       "<div>\n",
       "<style scoped>\n",
       "    .dataframe tbody tr th:only-of-type {\n",
       "        vertical-align: middle;\n",
       "    }\n",
       "\n",
       "    .dataframe tbody tr th {\n",
       "        vertical-align: top;\n",
       "    }\n",
       "\n",
       "    .dataframe thead th {\n",
       "        text-align: right;\n",
       "    }\n",
       "</style>\n",
       "<table border=\"1\" class=\"dataframe\">\n",
       "  <thead>\n",
       "    <tr style=\"text-align: right;\">\n",
       "      <th></th>\n",
       "      <th>player_id</th>\n",
       "      <th>country_id</th>\n",
       "      <th>name</th>\n",
       "      <th>hand</th>\n",
       "      <th>ht</th>\n",
       "      <th>byear_of_birth</th>\n",
       "      <th>sex</th>\n",
       "    </tr>\n",
       "  </thead>\n",
       "  <tbody>\n",
       "    <tr>\n",
       "      <th>2</th>\n",
       "      <td>104542</td>\n",
       "      <td>FRA</td>\n",
       "      <td>Jo-Wilfried Tsonga</td>\n",
       "      <td>R</td>\n",
       "      <td>188.0</td>\n",
       "      <td>1985.0</td>\n",
       "      <td>NaN</td>\n",
       "    </tr>\n",
       "    <tr>\n",
       "      <th>31</th>\n",
       "      <td>106426</td>\n",
       "      <td>CHI</td>\n",
       "      <td>Cristian Garin</td>\n",
       "      <td>R</td>\n",
       "      <td>185.0</td>\n",
       "      <td>1996.0</td>\n",
       "      <td>NaN</td>\n",
       "    </tr>\n",
       "    <tr>\n",
       "      <th>53</th>\n",
       "      <td>104527</td>\n",
       "      <td>SUI</td>\n",
       "      <td>Stan Wawrinka</td>\n",
       "      <td>R</td>\n",
       "      <td>183.0</td>\n",
       "      <td>1985.0</td>\n",
       "      <td>NaN</td>\n",
       "    </tr>\n",
       "    <tr>\n",
       "      <th>86</th>\n",
       "      <td>126156</td>\n",
       "      <td>FRA</td>\n",
       "      <td>Antoine Hoang</td>\n",
       "      <td>R</td>\n",
       "      <td>NaN</td>\n",
       "      <td>1995.0</td>\n",
       "      <td>NaN</td>\n",
       "    </tr>\n",
       "    <tr>\n",
       "      <th>95</th>\n",
       "      <td>126203</td>\n",
       "      <td>USA</td>\n",
       "      <td>Taylor Fritz</td>\n",
       "      <td>R</td>\n",
       "      <td>193.0</td>\n",
       "      <td>1998.0</td>\n",
       "      <td>NaN</td>\n",
       "    </tr>\n",
       "    <tr>\n",
       "      <th>104</th>\n",
       "      <td>111456</td>\n",
       "      <td>USA</td>\n",
       "      <td>Mackenzie McDonald</td>\n",
       "      <td>R</td>\n",
       "      <td>NaN</td>\n",
       "      <td>1996.0</td>\n",
       "      <td>NaN</td>\n",
       "    </tr>\n",
       "    <tr>\n",
       "      <th>110</th>\n",
       "      <td>106043</td>\n",
       "      <td>ARG</td>\n",
       "      <td>Diego Schwartzman</td>\n",
       "      <td>R</td>\n",
       "      <td>170.0</td>\n",
       "      <td>1993.0</td>\n",
       "      <td>NaN</td>\n",
       "    </tr>\n",
       "    <tr>\n",
       "      <th>136</th>\n",
       "      <td>126207</td>\n",
       "      <td>USA</td>\n",
       "      <td>Frances Tiafoe</td>\n",
       "      <td>R</td>\n",
       "      <td>188.0</td>\n",
       "      <td>1999.0</td>\n",
       "      <td>NaN</td>\n",
       "    </tr>\n",
       "    <tr>\n",
       "      <th>204</th>\n",
       "      <td>124079</td>\n",
       "      <td>ESP</td>\n",
       "      <td>Pedro Martinez</td>\n",
       "      <td>R</td>\n",
       "      <td>NaN</td>\n",
       "      <td>1998.0</td>\n",
       "      <td>NaN</td>\n",
       "    </tr>\n",
       "    <tr>\n",
       "      <th>230</th>\n",
       "      <td>144750</td>\n",
       "      <td>RSA</td>\n",
       "      <td>Lloyd Harris</td>\n",
       "      <td>R</td>\n",
       "      <td>193.0</td>\n",
       "      <td>1998.0</td>\n",
       "      <td>NaN</td>\n",
       "    </tr>\n",
       "    <tr>\n",
       "      <th>319</th>\n",
       "      <td>105015</td>\n",
       "      <td>CRO</td>\n",
       "      <td>Franko Skugor</td>\n",
       "      <td>R</td>\n",
       "      <td>193.0</td>\n",
       "      <td>1988.0</td>\n",
       "      <td>NaN</td>\n",
       "    </tr>\n",
       "    <tr>\n",
       "      <th>331</th>\n",
       "      <td>105223</td>\n",
       "      <td>ARG</td>\n",
       "      <td>Juan Martin del Potro</td>\n",
       "      <td>R</td>\n",
       "      <td>198.0</td>\n",
       "      <td>1989.0</td>\n",
       "      <td>NaN</td>\n",
       "    </tr>\n",
       "    <tr>\n",
       "      <th>371</th>\n",
       "      <td>200670</td>\n",
       "      <td>USA</td>\n",
       "      <td>J.J. Wolf</td>\n",
       "      <td>R</td>\n",
       "      <td>NaN</td>\n",
       "      <td>1999.0</td>\n",
       "      <td>NaN</td>\n",
       "    </tr>\n",
       "    <tr>\n",
       "      <th>399</th>\n",
       "      <td>123755</td>\n",
       "      <td>COL</td>\n",
       "      <td>Daniel Elahi Galan</td>\n",
       "      <td>R</td>\n",
       "      <td>191.0</td>\n",
       "      <td>1997.0</td>\n",
       "      <td>NaN</td>\n",
       "    </tr>\n",
       "    <tr>\n",
       "      <th>532</th>\n",
       "      <td>110778</td>\n",
       "      <td>BRA</td>\n",
       "      <td>Joao Menezes</td>\n",
       "      <td>R</td>\n",
       "      <td>NaN</td>\n",
       "      <td>1997.0</td>\n",
       "      <td>NaN</td>\n",
       "    </tr>\n",
       "    <tr>\n",
       "      <th>568</th>\n",
       "      <td>127300</td>\n",
       "      <td>UZB</td>\n",
       "      <td>Jurabek Karimov</td>\n",
       "      <td>U</td>\n",
       "      <td>NaN</td>\n",
       "      <td>1998.0</td>\n",
       "      <td>NaN</td>\n",
       "    </tr>\n",
       "    <tr>\n",
       "      <th>577</th>\n",
       "      <td>122669</td>\n",
       "      <td>PER</td>\n",
       "      <td>Juan Pablo Varillas</td>\n",
       "      <td>R</td>\n",
       "      <td>NaN</td>\n",
       "      <td>1996.0</td>\n",
       "      <td>NaN</td>\n",
       "    </tr>\n",
       "    <tr>\n",
       "      <th>587</th>\n",
       "      <td>208029</td>\n",
       "      <td>DEN</td>\n",
       "      <td>Holger Rune</td>\n",
       "      <td>R</td>\n",
       "      <td>NaN</td>\n",
       "      <td>2003.0</td>\n",
       "      <td>NaN</td>\n",
       "    </tr>\n",
       "    <tr>\n",
       "      <th>714</th>\n",
       "      <td>126939</td>\n",
       "      <td>UZB</td>\n",
       "      <td>Khumoun Sultanov</td>\n",
       "      <td>R</td>\n",
       "      <td>NaN</td>\n",
       "      <td>1999.0</td>\n",
       "      <td>NaN</td>\n",
       "    </tr>\n",
       "    <tr>\n",
       "      <th>776</th>\n",
       "      <td>126185</td>\n",
       "      <td>RUS</td>\n",
       "      <td>Evgenii Tiurnev</td>\n",
       "      <td>R</td>\n",
       "      <td>NaN</td>\n",
       "      <td>1997.0</td>\n",
       "      <td>NaN</td>\n",
       "    </tr>\n",
       "    <tr>\n",
       "      <th>1272</th>\n",
       "      <td>206403</td>\n",
       "      <td>UKR</td>\n",
       "      <td>Alona Fomina</td>\n",
       "      <td>R</td>\n",
       "      <td>NaN</td>\n",
       "      <td>1989.0</td>\n",
       "      <td>NaN</td>\n",
       "    </tr>\n",
       "    <tr>\n",
       "      <th>2027</th>\n",
       "      <td>216569</td>\n",
       "      <td>TUR</td>\n",
       "      <td>Zeynep  Sena Sarioglan</td>\n",
       "      <td>U</td>\n",
       "      <td>NaN</td>\n",
       "      <td>2002.0</td>\n",
       "      <td>NaN</td>\n",
       "    </tr>\n",
       "    <tr>\n",
       "      <th>2180</th>\n",
       "      <td>106331</td>\n",
       "      <td>AUS</td>\n",
       "      <td>Christopher O'Connell</td>\n",
       "      <td>R</td>\n",
       "      <td>183.0</td>\n",
       "      <td>1995.0</td>\n",
       "      <td>NaN</td>\n",
       "    </tr>\n",
       "    <tr>\n",
       "      <th>2187</th>\n",
       "      <td>105032</td>\n",
       "      <td>AUS</td>\n",
       "      <td>Sam Groth</td>\n",
       "      <td>R</td>\n",
       "      <td>NaN</td>\n",
       "      <td>1988.0</td>\n",
       "      <td>NaN</td>\n",
       "    </tr>\n",
       "    <tr>\n",
       "      <th>2733</th>\n",
       "      <td>103926</td>\n",
       "      <td>ESP</td>\n",
       "      <td>Daniel Munoz de la Nava</td>\n",
       "      <td>L</td>\n",
       "      <td>NaN</td>\n",
       "      <td>1982.0</td>\n",
       "      <td>NaN</td>\n",
       "    </tr>\n",
       "    <tr>\n",
       "      <th>2775</th>\n",
       "      <td>122298</td>\n",
       "      <td>NED</td>\n",
       "      <td>Botic van de Zandschulp</td>\n",
       "      <td>R</td>\n",
       "      <td>NaN</td>\n",
       "      <td>1996.0</td>\n",
       "      <td>NaN</td>\n",
       "    </tr>\n",
       "    <tr>\n",
       "      <th>2972</th>\n",
       "      <td>105586</td>\n",
       "      <td>BUL</td>\n",
       "      <td>Alexandar Lazov</td>\n",
       "      <td>U</td>\n",
       "      <td>NaN</td>\n",
       "      <td>1990.0</td>\n",
       "      <td>NaN</td>\n",
       "    </tr>\n",
       "    <tr>\n",
       "      <th>3114</th>\n",
       "      <td>110474</td>\n",
       "      <td>IRL</td>\n",
       "      <td>David O'Hare</td>\n",
       "      <td>U</td>\n",
       "      <td>NaN</td>\n",
       "      <td>1991.0</td>\n",
       "      <td>NaN</td>\n",
       "    </tr>\n",
       "    <tr>\n",
       "      <th>3352</th>\n",
       "      <td>127326</td>\n",
       "      <td>ISR</td>\n",
       "      <td>Ben Patael</td>\n",
       "      <td>U</td>\n",
       "      <td>NaN</td>\n",
       "      <td>1998.0</td>\n",
       "      <td>NaN</td>\n",
       "    </tr>\n",
       "    <tr>\n",
       "      <th>3884</th>\n",
       "      <td>106238</td>\n",
       "      <td>ESP</td>\n",
       "      <td>Andres Artunedo Martinavarro</td>\n",
       "      <td>R</td>\n",
       "      <td>NaN</td>\n",
       "      <td>1994.0</td>\n",
       "      <td>NaN</td>\n",
       "    </tr>\n",
       "    <tr>\n",
       "      <th>7270</th>\n",
       "      <td>209404</td>\n",
       "      <td>ESP</td>\n",
       "      <td>Marc Othman Ktiri</td>\n",
       "      <td>U</td>\n",
       "      <td>NaN</td>\n",
       "      <td>2004.0</td>\n",
       "      <td>NaN</td>\n",
       "    </tr>\n",
       "    <tr>\n",
       "      <th>7714</th>\n",
       "      <td>200707</td>\n",
       "      <td>USA</td>\n",
       "      <td>Max Colorado</td>\n",
       "      <td>R</td>\n",
       "      <td>183.0</td>\n",
       "      <td>1996.0</td>\n",
       "      <td>NaN</td>\n",
       "    </tr>\n",
       "    <tr>\n",
       "      <th>8155</th>\n",
       "      <td>209890</td>\n",
       "      <td>CRO</td>\n",
       "      <td>Mili Poljicak</td>\n",
       "      <td>U</td>\n",
       "      <td>NaN</td>\n",
       "      <td>NaN</td>\n",
       "      <td>NaN</td>\n",
       "    </tr>\n",
       "    <tr>\n",
       "      <th>8162</th>\n",
       "      <td>209984</td>\n",
       "      <td>SVK</td>\n",
       "      <td>Milos Karol</td>\n",
       "      <td>R</td>\n",
       "      <td>NaN</td>\n",
       "      <td>2003.0</td>\n",
       "      <td>NaN</td>\n",
       "    </tr>\n",
       "  </tbody>\n",
       "</table>\n",
       "</div>"
      ],
      "text/plain": [
       "      player_id country_id                          name hand     ht  \\\n",
       "2        104542        FRA            Jo-Wilfried Tsonga    R  188.0   \n",
       "31       106426        CHI                Cristian Garin    R  185.0   \n",
       "53       104527        SUI                 Stan Wawrinka    R  183.0   \n",
       "86       126156        FRA                 Antoine Hoang    R    NaN   \n",
       "95       126203        USA                  Taylor Fritz    R  193.0   \n",
       "104      111456        USA            Mackenzie McDonald    R    NaN   \n",
       "110      106043        ARG             Diego Schwartzman    R  170.0   \n",
       "136      126207        USA                Frances Tiafoe    R  188.0   \n",
       "204      124079        ESP                Pedro Martinez    R    NaN   \n",
       "230      144750        RSA                  Lloyd Harris    R  193.0   \n",
       "319      105015        CRO                 Franko Skugor    R  193.0   \n",
       "331      105223        ARG         Juan Martin del Potro    R  198.0   \n",
       "371      200670        USA                     J.J. Wolf    R    NaN   \n",
       "399      123755        COL            Daniel Elahi Galan    R  191.0   \n",
       "532      110778        BRA                  Joao Menezes    R    NaN   \n",
       "568      127300        UZB               Jurabek Karimov    U    NaN   \n",
       "577      122669        PER           Juan Pablo Varillas    R    NaN   \n",
       "587      208029        DEN                   Holger Rune    R    NaN   \n",
       "714      126939        UZB              Khumoun Sultanov    R    NaN   \n",
       "776      126185        RUS               Evgenii Tiurnev    R    NaN   \n",
       "1272     206403        UKR                  Alona Fomina    R    NaN   \n",
       "2027     216569        TUR        Zeynep  Sena Sarioglan    U    NaN   \n",
       "2180     106331        AUS         Christopher O'Connell    R  183.0   \n",
       "2187     105032        AUS                     Sam Groth    R    NaN   \n",
       "2733     103926        ESP       Daniel Munoz de la Nava    L    NaN   \n",
       "2775     122298        NED       Botic van de Zandschulp    R    NaN   \n",
       "2972     105586        BUL               Alexandar Lazov    U    NaN   \n",
       "3114     110474        IRL                  David O'Hare    U    NaN   \n",
       "3352     127326        ISR                    Ben Patael    U    NaN   \n",
       "3884     106238        ESP  Andres Artunedo Martinavarro    R    NaN   \n",
       "7270     209404        ESP            Marc Othman Ktiri     U    NaN   \n",
       "7714     200707        USA                 Max Colorado     R  183.0   \n",
       "8155     209890        CRO                Mili Poljicak     U    NaN   \n",
       "8162     209984        SVK                  Milos Karol     R    NaN   \n",
       "\n",
       "      byear_of_birth  sex  \n",
       "2             1985.0  NaN  \n",
       "31            1996.0  NaN  \n",
       "53            1985.0  NaN  \n",
       "86            1995.0  NaN  \n",
       "95            1998.0  NaN  \n",
       "104           1996.0  NaN  \n",
       "110           1993.0  NaN  \n",
       "136           1999.0  NaN  \n",
       "204           1998.0  NaN  \n",
       "230           1998.0  NaN  \n",
       "319           1988.0  NaN  \n",
       "331           1989.0  NaN  \n",
       "371           1999.0  NaN  \n",
       "399           1997.0  NaN  \n",
       "532           1997.0  NaN  \n",
       "568           1998.0  NaN  \n",
       "577           1996.0  NaN  \n",
       "587           2003.0  NaN  \n",
       "714           1999.0  NaN  \n",
       "776           1997.0  NaN  \n",
       "1272          1989.0  NaN  \n",
       "2027          2002.0  NaN  \n",
       "2180          1995.0  NaN  \n",
       "2187          1988.0  NaN  \n",
       "2733          1982.0  NaN  \n",
       "2775          1996.0  NaN  \n",
       "2972          1990.0  NaN  \n",
       "3114          1991.0  NaN  \n",
       "3352          1998.0  NaN  \n",
       "3884          1994.0  NaN  \n",
       "7270          2004.0  NaN  \n",
       "7714          1996.0  NaN  \n",
       "8155             NaN  NaN  \n",
       "8162          2003.0  NaN  "
      ]
     },
     "execution_count": 47,
     "metadata": {},
     "output_type": "execute_result"
    }
   ],
   "source": [
    "#controlliamo chi sono le persone senza \"sex\"\n",
    "players[players[\"sex\"].isnull()]"
   ]
  },
  {
   "cell_type": "markdown",
   "metadata": {},
   "source": [
    "É stato possibile controllare sul sito peoplepill (https://peoplepill.com/people/alona-fomina) come tutte queste persone senza Sex siamo \"male\", tranne per \"Alona\". \n",
    "Si procederà quindi a sostituire \"nan\" con il corrispettivo sesso"
   ]
  },
  {
   "cell_type": "code",
   "execution_count": 48,
   "metadata": {},
   "outputs": [],
   "source": [
    "#rimpiazziamo tutti con \"M\"\n",
    "players[\"sex\"].fillna(\"M\", inplace = True)"
   ]
  },
  {
   "cell_type": "code",
   "execution_count": 49,
   "metadata": {},
   "outputs": [
    {
     "data": {
      "text/plain": [
       "'M'"
      ]
     },
     "metadata": {},
     "output_type": "display_data"
    }
   ],
   "source": [
    "display(players.iloc[1272][6])"
   ]
  },
  {
   "cell_type": "code",
   "execution_count": 50,
   "metadata": {},
   "outputs": [],
   "source": [
    "#poi sostituiamo solo \"Alona\"\n",
    "players.at[1272, 'sex'] = 'F'"
   ]
  },
  {
   "cell_type": "code",
   "execution_count": 51,
   "metadata": {},
   "outputs": [
    {
     "data": {
      "text/plain": [
       "'F'"
      ]
     },
     "metadata": {},
     "output_type": "display_data"
    }
   ],
   "source": [
    "#controlliamo \"Alona\"\n",
    "display(players.iloc[1272][6])"
   ]
  },
  {
   "cell_type": "code",
   "execution_count": 52,
   "metadata": {},
   "outputs": [
    {
     "data": {
      "text/plain": [
       "'M'"
      ]
     },
     "metadata": {},
     "output_type": "display_data"
    }
   ],
   "source": [
    "#controlliamo \"Andres Artunedo Martinavarro\"\n",
    "display(players.iloc[3884][6])"
   ]
  },
  {
   "cell_type": "markdown",
   "metadata": {},
   "source": [
    "## HAND"
   ]
  },
  {
   "cell_type": "markdown",
   "metadata": {},
   "source": [
    "Poichè in hand troviamo un valore \"U\" che probabilmente significherà \"undefined\", sostituiamo tutte le u con \"Nan\", per poi sostituirli in base alla distribuzione di R e L sul totale di partecipanti "
   ]
  },
  {
   "cell_type": "code",
   "execution_count": 53,
   "metadata": {},
   "outputs": [
    {
     "data": {
      "text/plain": [
       "U    6286\n",
       "R    3402\n",
       "L     402\n",
       "Name: hand, dtype: int64"
      ]
     },
     "execution_count": 53,
     "metadata": {},
     "output_type": "execute_result"
    }
   ],
   "source": [
    "players[\"hand\"].value_counts()"
   ]
  },
  {
   "cell_type": "code",
   "execution_count": 54,
   "metadata": {},
   "outputs": [],
   "source": [
    "#sostituire i valori U con \"NAN\"\n",
    "players['hand'] = players['hand'].replace(\"U\",np.nan)"
   ]
  },
  {
   "cell_type": "code",
   "execution_count": 55,
   "metadata": {},
   "outputs": [
    {
     "data": {
      "text/plain": [
       "player_id            0\n",
       "country_id           0\n",
       "name                 0\n",
       "hand              6319\n",
       "ht                9599\n",
       "byear_of_birth    2110\n",
       "sex                  0\n",
       "dtype: int64"
      ]
     },
     "execution_count": 55,
     "metadata": {},
     "output_type": "execute_result"
    }
   ],
   "source": [
    "players.isnull().sum()"
   ]
  },
  {
   "cell_type": "code",
   "execution_count": 56,
   "metadata": {},
   "outputs": [
    {
     "data": {
      "text/plain": [
       "R    3402\n",
       "L     402\n",
       "Name: hand, dtype: int64"
      ]
     },
     "execution_count": 56,
     "metadata": {},
     "output_type": "execute_result"
    }
   ],
   "source": [
    "#vedo la distribuzione dell'hand\n",
    "players[\"hand\"].value_counts()"
   ]
  },
  {
   "cell_type": "code",
   "execution_count": 57,
   "metadata": {},
   "outputs": [
    {
     "data": {
      "text/plain": [
       "R    0.894322\n",
       "L    0.105678\n",
       "Name: hand, dtype: float64"
      ]
     },
     "execution_count": 57,
     "metadata": {},
     "output_type": "execute_result"
    }
   ],
   "source": [
    "#vediamo la percentuale di distribuzione sul totale di hand \n",
    "players['hand'].value_counts()/players['hand'].value_counts().sum()"
   ]
  },
  {
   "cell_type": "markdown",
   "metadata": {},
   "source": [
    "Poichè la distribuzione di hand è all'incirca 90% right e 10% left,  verrà sostituita l'hand, randomicamente, per il totale dei record secondo queste distribuzioni."
   ]
  },
  {
   "cell_type": "code",
   "execution_count": 58,
   "metadata": {},
   "outputs": [],
   "source": [
    "from random import sample\n",
    "from random import seed"
   ]
  },
  {
   "cell_type": "code",
   "execution_count": 59,
   "metadata": {},
   "outputs": [],
   "source": [
    "seed(2)"
   ]
  },
  {
   "cell_type": "code",
   "execution_count": 60,
   "metadata": {},
   "outputs": [],
   "source": [
    "#ottengo gli indici delle righe in cui hand è missing\n",
    "indici = list(players[players['hand'].isna()].index)"
   ]
  },
  {
   "cell_type": "code",
   "execution_count": 61,
   "metadata": {},
   "outputs": [],
   "source": [
    "#prendo il 90% random degli indici da sostituire con 'R'\n",
    "right = sample(indici, int(0.9*len(indici)))"
   ]
  },
  {
   "cell_type": "code",
   "execution_count": 62,
   "metadata": {},
   "outputs": [],
   "source": [
    "#Metto R in base all'indice\n",
    "for i in right:\n",
    "    players.loc[i,'hand'] = 'R'"
   ]
  },
  {
   "cell_type": "code",
   "execution_count": 63,
   "metadata": {},
   "outputs": [],
   "source": [
    "#Gli ultimi missing values che rimangono sono il 10% in cui mettere 'L'\n",
    "players['hand'] = players['hand'].replace(np.nan, 'L')"
   ]
  },
  {
   "cell_type": "code",
   "execution_count": 64,
   "metadata": {},
   "outputs": [
    {
     "data": {
      "text/plain": [
       "player_id            0\n",
       "country_id           0\n",
       "name                 0\n",
       "hand                 0\n",
       "ht                9599\n",
       "byear_of_birth    2110\n",
       "sex                  0\n",
       "dtype: int64"
      ]
     },
     "execution_count": 64,
     "metadata": {},
     "output_type": "execute_result"
    }
   ],
   "source": [
    "#controlliamo\n",
    "players.isnull().sum()"
   ]
  },
  {
   "cell_type": "markdown",
   "metadata": {},
   "source": [
    "##  HT"
   ]
  },
  {
   "cell_type": "markdown",
   "metadata": {},
   "source": [
    "Raggruppiamo l'altezza in base al CONTINENT e sex, successivamente calcoliamo la media, per poi rimpiazzare i valori mancanti"
   ]
  },
  {
   "cell_type": "code",
   "execution_count": 65,
   "metadata": {},
   "outputs": [],
   "source": [
    "#importiamo geography\n",
    "geo= pd.read_csv(r\"C:\\Users\\giada\\Desktop\\PROGETTO LAB\\data2021\\geography.csv\")"
   ]
  },
  {
   "cell_type": "code",
   "execution_count": 66,
   "metadata": {},
   "outputs": [],
   "source": [
    "#creiamo un dataframe chiamato \"merged\" che continene tutte le colonne di players e continent\n",
    "merged= pd.merge(players, geo, how='inner', left_on = 'country_id', right_on = 'country_code')\n",
    "merged.drop(columns=['language','country_code'], inplace=True)"
   ]
  },
  {
   "cell_type": "code",
   "execution_count": 67,
   "metadata": {},
   "outputs": [
    {
     "data": {
      "text/html": [
       "<div>\n",
       "<style scoped>\n",
       "    .dataframe tbody tr th:only-of-type {\n",
       "        vertical-align: middle;\n",
       "    }\n",
       "\n",
       "    .dataframe tbody tr th {\n",
       "        vertical-align: top;\n",
       "    }\n",
       "\n",
       "    .dataframe thead th {\n",
       "        text-align: right;\n",
       "    }\n",
       "</style>\n",
       "<table border=\"1\" class=\"dataframe\">\n",
       "  <thead>\n",
       "    <tr style=\"text-align: right;\">\n",
       "      <th></th>\n",
       "      <th>player_id</th>\n",
       "      <th>country_id</th>\n",
       "      <th>name</th>\n",
       "      <th>hand</th>\n",
       "      <th>ht</th>\n",
       "      <th>byear_of_birth</th>\n",
       "      <th>sex</th>\n",
       "      <th>continent</th>\n",
       "    </tr>\n",
       "  </thead>\n",
       "  <tbody>\n",
       "    <tr>\n",
       "      <th>0</th>\n",
       "      <td>105453</td>\n",
       "      <td>JPN</td>\n",
       "      <td>Kei Nishikori</td>\n",
       "      <td>R</td>\n",
       "      <td>178.0</td>\n",
       "      <td>1989.0</td>\n",
       "      <td>M</td>\n",
       "      <td>Asia</td>\n",
       "    </tr>\n",
       "    <tr>\n",
       "      <th>1</th>\n",
       "      <td>106034</td>\n",
       "      <td>JPN</td>\n",
       "      <td>Yasutaka Uchiyama</td>\n",
       "      <td>R</td>\n",
       "      <td>NaN</td>\n",
       "      <td>1992.0</td>\n",
       "      <td>M</td>\n",
       "      <td>Asia</td>\n",
       "    </tr>\n",
       "    <tr>\n",
       "      <th>2</th>\n",
       "      <td>211768</td>\n",
       "      <td>JPN</td>\n",
       "      <td>Naomi Osaka</td>\n",
       "      <td>R</td>\n",
       "      <td>180.0</td>\n",
       "      <td>1997.0</td>\n",
       "      <td>F</td>\n",
       "      <td>Asia</td>\n",
       "    </tr>\n",
       "    <tr>\n",
       "      <th>3</th>\n",
       "      <td>106121</td>\n",
       "      <td>JPN</td>\n",
       "      <td>Taro Daniel</td>\n",
       "      <td>R</td>\n",
       "      <td>NaN</td>\n",
       "      <td>1993.0</td>\n",
       "      <td>M</td>\n",
       "      <td>Asia</td>\n",
       "    </tr>\n",
       "    <tr>\n",
       "      <th>4</th>\n",
       "      <td>106415</td>\n",
       "      <td>JPN</td>\n",
       "      <td>Yoshihito Nishioka</td>\n",
       "      <td>L</td>\n",
       "      <td>170.0</td>\n",
       "      <td>1996.0</td>\n",
       "      <td>M</td>\n",
       "      <td>Asia</td>\n",
       "    </tr>\n",
       "    <tr>\n",
       "      <th>...</th>\n",
       "      <td>...</td>\n",
       "      <td>...</td>\n",
       "      <td>...</td>\n",
       "      <td>...</td>\n",
       "      <td>...</td>\n",
       "      <td>...</td>\n",
       "      <td>...</td>\n",
       "      <td>...</td>\n",
       "    </tr>\n",
       "    <tr>\n",
       "      <th>10118</th>\n",
       "      <td>239179</td>\n",
       "      <td>LVA</td>\n",
       "      <td>Elizabete Klavinska</td>\n",
       "      <td>R</td>\n",
       "      <td>NaN</td>\n",
       "      <td>NaN</td>\n",
       "      <td>F</td>\n",
       "      <td>Europe</td>\n",
       "    </tr>\n",
       "    <tr>\n",
       "      <th>10119</th>\n",
       "      <td>223102</td>\n",
       "      <td>LVA</td>\n",
       "      <td>Nicole Geller</td>\n",
       "      <td>R</td>\n",
       "      <td>NaN</td>\n",
       "      <td>NaN</td>\n",
       "      <td>F</td>\n",
       "      <td>Europe</td>\n",
       "    </tr>\n",
       "    <tr>\n",
       "      <th>10120</th>\n",
       "      <td>223104</td>\n",
       "      <td>LVA</td>\n",
       "      <td>Alise Vindiga</td>\n",
       "      <td>R</td>\n",
       "      <td>NaN</td>\n",
       "      <td>NaN</td>\n",
       "      <td>F</td>\n",
       "      <td>Europe</td>\n",
       "    </tr>\n",
       "    <tr>\n",
       "      <th>10121</th>\n",
       "      <td>238211</td>\n",
       "      <td>CRI</td>\n",
       "      <td>Elena Salazar Roca</td>\n",
       "      <td>R</td>\n",
       "      <td>NaN</td>\n",
       "      <td>NaN</td>\n",
       "      <td>F</td>\n",
       "      <td>America</td>\n",
       "    </tr>\n",
       "    <tr>\n",
       "      <th>10122</th>\n",
       "      <td>223434</td>\n",
       "      <td>BAN</td>\n",
       "      <td>Jhilik Chakma</td>\n",
       "      <td>R</td>\n",
       "      <td>NaN</td>\n",
       "      <td>NaN</td>\n",
       "      <td>F</td>\n",
       "      <td>Asia</td>\n",
       "    </tr>\n",
       "  </tbody>\n",
       "</table>\n",
       "<p>10123 rows × 8 columns</p>\n",
       "</div>"
      ],
      "text/plain": [
       "       player_id country_id                 name hand     ht  byear_of_birth  \\\n",
       "0         105453        JPN        Kei Nishikori    R  178.0          1989.0   \n",
       "1         106034        JPN    Yasutaka Uchiyama    R    NaN          1992.0   \n",
       "2         211768        JPN          Naomi Osaka    R  180.0          1997.0   \n",
       "3         106121        JPN          Taro Daniel    R    NaN          1993.0   \n",
       "4         106415        JPN   Yoshihito Nishioka    L  170.0          1996.0   \n",
       "...          ...        ...                  ...  ...    ...             ...   \n",
       "10118     239179        LVA  Elizabete Klavinska    R    NaN             NaN   \n",
       "10119     223102        LVA        Nicole Geller    R    NaN             NaN   \n",
       "10120     223104        LVA        Alise Vindiga    R    NaN             NaN   \n",
       "10121     238211        CRI   Elena Salazar Roca    R    NaN             NaN   \n",
       "10122     223434        BAN        Jhilik Chakma    R    NaN             NaN   \n",
       "\n",
       "      sex continent  \n",
       "0       M      Asia  \n",
       "1       M      Asia  \n",
       "2       F      Asia  \n",
       "3       M      Asia  \n",
       "4       M      Asia  \n",
       "...    ..       ...  \n",
       "10118   F    Europe  \n",
       "10119   F    Europe  \n",
       "10120   F    Europe  \n",
       "10121   F   America  \n",
       "10122   F      Asia  \n",
       "\n",
       "[10123 rows x 8 columns]"
      ]
     },
     "execution_count": 67,
     "metadata": {},
     "output_type": "execute_result"
    }
   ],
   "source": [
    "merged"
   ]
  },
  {
   "cell_type": "code",
   "execution_count": 68,
   "metadata": {},
   "outputs": [],
   "source": [
    "players['ht'] = merged.groupby(['sex','continent'])['ht'].transform(lambda x: x.fillna(x.mean()))"
   ]
  },
  {
   "cell_type": "code",
   "execution_count": 69,
   "metadata": {},
   "outputs": [
    {
     "data": {
      "text/plain": [
       "player_id            0\n",
       "country_id           0\n",
       "name                 0\n",
       "hand                 0\n",
       "ht                   0\n",
       "byear_of_birth    2110\n",
       "sex                  0\n",
       "dtype: int64"
      ]
     },
     "execution_count": 69,
     "metadata": {},
     "output_type": "execute_result"
    }
   ],
   "source": [
    "#controlliamo\n",
    "players.isnull().sum()"
   ]
  },
  {
   "cell_type": "markdown",
   "metadata": {},
   "source": [
    "## Controlliamo se ci sono valori strani nell'altezza"
   ]
  },
  {
   "cell_type": "code",
   "execution_count": 70,
   "metadata": {},
   "outputs": [
    {
     "name": "stdout",
     "output_type": "stream",
     "text": [
      "211.0\n",
      "2.0\n"
     ]
    }
   ],
   "source": [
    "#controlliamo le altezze per vedere se ci sono valori \"strani\", cioè possibili outliers o errori di scrittura\n",
    "column = players[\"ht\"]\n",
    "\n",
    "max_value = column.max()\n",
    "min_value= column.min()\n",
    "\n",
    "print(max_value)\n",
    "print(min_value)"
   ]
  },
  {
   "cell_type": "code",
   "execution_count": 71,
   "metadata": {},
   "outputs": [
    {
     "data": {
      "text/html": [
       "<div>\n",
       "<style scoped>\n",
       "    .dataframe tbody tr th:only-of-type {\n",
       "        vertical-align: middle;\n",
       "    }\n",
       "\n",
       "    .dataframe tbody tr th {\n",
       "        vertical-align: top;\n",
       "    }\n",
       "\n",
       "    .dataframe thead th {\n",
       "        text-align: right;\n",
       "    }\n",
       "</style>\n",
       "<table border=\"1\" class=\"dataframe\">\n",
       "  <thead>\n",
       "    <tr style=\"text-align: right;\">\n",
       "      <th></th>\n",
       "      <th>player_id</th>\n",
       "      <th>country_id</th>\n",
       "      <th>name</th>\n",
       "      <th>hand</th>\n",
       "      <th>ht</th>\n",
       "      <th>byear_of_birth</th>\n",
       "      <th>sex</th>\n",
       "    </tr>\n",
       "  </thead>\n",
       "  <tbody>\n",
       "    <tr>\n",
       "      <th>500</th>\n",
       "      <td>201664</td>\n",
       "      <td>TUR</td>\n",
       "      <td>Pemra Ozgen</td>\n",
       "      <td>R</td>\n",
       "      <td>2.0</td>\n",
       "      <td>1986.0</td>\n",
       "      <td>F</td>\n",
       "    </tr>\n",
       "    <tr>\n",
       "      <th>2161</th>\n",
       "      <td>104330</td>\n",
       "      <td>USA</td>\n",
       "      <td>Rajeev Ram</td>\n",
       "      <td>R</td>\n",
       "      <td>145.0</td>\n",
       "      <td>1984.0</td>\n",
       "      <td>M</td>\n",
       "    </tr>\n",
       "  </tbody>\n",
       "</table>\n",
       "</div>"
      ],
      "text/plain": [
       "      player_id country_id         name hand     ht  byear_of_birth sex\n",
       "500      201664        TUR  Pemra Ozgen    R    2.0          1986.0   F\n",
       "2161     104330        USA   Rajeev Ram    R  145.0          1984.0   M"
      ]
     },
     "execution_count": 71,
     "metadata": {},
     "output_type": "execute_result"
    }
   ],
   "source": [
    "#vediamo se ci sono persone più basse di 150 cm\n",
    "players.loc[players['ht'] < 150]"
   ]
  },
  {
   "cell_type": "markdown",
   "metadata": {},
   "source": [
    "É stato possibile notare come sia presente una persona con altezza 145 ed una con altezza 2. Probabilmente quest'ultimo caso è dovuto ad un errore di battitura.\n",
    "Per tal ragione, è stato cercato il nome della tennista per sostituire la sua altezza con quella reale (fonte:https://it.wikipedia.org/wiki/Pemra_%C3%96zgen). Inoltre è stata anche verificata l'altezza del secondo player, dal medesimo sito, per poi correggerla. "
   ]
  },
  {
   "cell_type": "code",
   "execution_count": 72,
   "metadata": {},
   "outputs": [],
   "source": [
    "players.loc[players['ht'] == 2.0, 'ht'] = 170.0\n",
    "players.loc[players['name'] == \"Rajeev Ram\", 'ht'] = 193.0"
   ]
  },
  {
   "cell_type": "code",
   "execution_count": 73,
   "metadata": {},
   "outputs": [
    {
     "data": {
      "text/html": [
       "<div>\n",
       "<style scoped>\n",
       "    .dataframe tbody tr th:only-of-type {\n",
       "        vertical-align: middle;\n",
       "    }\n",
       "\n",
       "    .dataframe tbody tr th {\n",
       "        vertical-align: top;\n",
       "    }\n",
       "\n",
       "    .dataframe thead th {\n",
       "        text-align: right;\n",
       "    }\n",
       "</style>\n",
       "<table border=\"1\" class=\"dataframe\">\n",
       "  <thead>\n",
       "    <tr style=\"text-align: right;\">\n",
       "      <th></th>\n",
       "      <th>player_id</th>\n",
       "      <th>country_id</th>\n",
       "      <th>name</th>\n",
       "      <th>hand</th>\n",
       "      <th>ht</th>\n",
       "      <th>byear_of_birth</th>\n",
       "      <th>sex</th>\n",
       "    </tr>\n",
       "  </thead>\n",
       "  <tbody>\n",
       "  </tbody>\n",
       "</table>\n",
       "</div>"
      ],
      "text/plain": [
       "Empty DataFrame\n",
       "Columns: [player_id, country_id, name, hand, ht, byear_of_birth, sex]\n",
       "Index: []"
      ]
     },
     "execution_count": 73,
     "metadata": {},
     "output_type": "execute_result"
    }
   ],
   "source": [
    "players.loc[players['ht'] < 150]"
   ]
  },
  {
   "cell_type": "code",
   "execution_count": 74,
   "metadata": {},
   "outputs": [
    {
     "data": {
      "text/plain": [
       "player_id            0\n",
       "country_id           0\n",
       "name                 0\n",
       "hand                 0\n",
       "ht                   0\n",
       "byear_of_birth    2110\n",
       "sex                  0\n",
       "dtype: int64"
      ]
     },
     "execution_count": 74,
     "metadata": {},
     "output_type": "execute_result"
    }
   ],
   "source": [
    "#controlliamo\n",
    "players.isnull().sum()"
   ]
  },
  {
   "cell_type": "code",
   "execution_count": 75,
   "metadata": {},
   "outputs": [
    {
     "data": {
      "text/plain": [
       "(10123, 7)"
      ]
     },
     "execution_count": 75,
     "metadata": {},
     "output_type": "execute_result"
    }
   ],
   "source": [
    "#ricontrollo se non ci sono duplicati\n",
    "players.shape"
   ]
  },
  {
   "cell_type": "markdown",
   "metadata": {},
   "source": [
    "## BYEAR OF BIRTH"
   ]
  },
  {
   "cell_type": "markdown",
   "metadata": {},
   "source": [
    "Poichè non è possibile risalire alle altre date di nascita tramite data integration, allora, è stato deciso di lasciare le righe che non presentano \"byearofbirth\" poichè un qualsiasi metodo di sostituzione dei dati porterebbe solo ad una distorsione eccessiva e inoltre, qualora avessimo rimosso le righe ci sarebbe stata un inconsistenza nella chiave esterna in match. Di conseguenza, i nan values sono stati sostituiti con \"-1\"."
   ]
  },
  {
   "cell_type": "code",
   "execution_count": 76,
   "metadata": {},
   "outputs": [],
   "source": [
    "players['byear_of_birth'] = players['byear_of_birth'].replace(np.nan, -1)"
   ]
  },
  {
   "cell_type": "markdown",
   "metadata": {},
   "source": [
    "## Convertiamo anno di nascita e ht in \"int\""
   ]
  },
  {
   "cell_type": "code",
   "execution_count": 77,
   "metadata": {},
   "outputs": [],
   "source": [
    "players['byear_of_birth'] = players['byear_of_birth'].astype(int)\n",
    "players['ht'] = players['ht'].astype(int)"
   ]
  },
  {
   "cell_type": "code",
   "execution_count": 78,
   "metadata": {},
   "outputs": [],
   "source": [
    "#salvare il dataset, come \"player_clean\"\n",
    "players.to_csv(r'C:\\Users\\giada\\Desktop\\PROGETTO LAB\\tab da inserire\\players_clean.csv', index = False, header = True)"
   ]
  }
 ],
 "metadata": {
  "kernelspec": {
   "display_name": "Python 3",
   "language": "python",
   "name": "python3"
  },
  "language_info": {
   "codemirror_mode": {
    "name": "ipython",
    "version": 3
   },
   "file_extension": ".py",
   "mimetype": "text/x-python",
   "name": "python",
   "nbconvert_exporter": "python",
   "pygments_lexer": "ipython3",
   "version": "3.8.5"
  }
 },
 "nbformat": 4,
 "nbformat_minor": 4
}
