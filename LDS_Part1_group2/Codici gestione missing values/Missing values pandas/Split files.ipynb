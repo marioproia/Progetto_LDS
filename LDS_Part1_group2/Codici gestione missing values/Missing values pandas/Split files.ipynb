{
 "cells": [
  {
   "cell_type": "code",
   "execution_count": 11,
   "metadata": {},
   "outputs": [],
   "source": [
    "import pandas as pd\n",
    "import numpy as np"
   ]
  },
  {
   "cell_type": "code",
   "execution_count": 12,
   "metadata": {},
   "outputs": [],
   "source": [
    "match= pd.read_csv(r\"C:\\Users\\giada\\Desktop\\PROGETTO LAB\\tab da inserire\\match_clean.csv\")\n",
    "tournament= pd.read_csv(r\"C:\\Users\\giada\\Desktop\\PROGETTO LAB\\tab da inserire\\tournament_clean.csv\")\n",
    "players= pd.read_csv(r\"C:\\Users\\giada\\Desktop\\PROGETTO LAB\\tab da inserire\\players_clean.csv\")"
   ]
  },
  {
   "cell_type": "code",
   "execution_count": 13,
   "metadata": {},
   "outputs": [
    {
     "data": {
      "text/plain": [
       "(185590, 11)"
      ]
     },
     "execution_count": 13,
     "metadata": {},
     "output_type": "execute_result"
    }
   ],
   "source": [
    "match.shape"
   ]
  },
  {
   "cell_type": "code",
   "execution_count": 14,
   "metadata": {},
   "outputs": [
    {
     "data": {
      "text/plain": [
       "(4911, 8)"
      ]
     },
     "execution_count": 14,
     "metadata": {},
     "output_type": "execute_result"
    }
   ],
   "source": [
    "tournament.shape"
   ]
  },
  {
   "cell_type": "code",
   "execution_count": 15,
   "metadata": {},
   "outputs": [
    {
     "data": {
      "text/plain": [
       "(10123, 7)"
      ]
     },
     "execution_count": 15,
     "metadata": {},
     "output_type": "execute_result"
    }
   ],
   "source": [
    "players.shape"
   ]
  },
  {
   "cell_type": "code",
   "execution_count": 16,
   "metadata": {},
   "outputs": [
    {
     "data": {
      "text/html": [
       "<div>\n",
       "<style scoped>\n",
       "    .dataframe tbody tr th:only-of-type {\n",
       "        vertical-align: middle;\n",
       "    }\n",
       "\n",
       "    .dataframe tbody tr th {\n",
       "        vertical-align: top;\n",
       "    }\n",
       "\n",
       "    .dataframe thead th {\n",
       "        text-align: right;\n",
       "    }\n",
       "</style>\n",
       "<table border=\"1\" class=\"dataframe\">\n",
       "  <thead>\n",
       "    <tr style=\"text-align: right;\">\n",
       "      <th></th>\n",
       "      <th>player_id</th>\n",
       "      <th>country_id</th>\n",
       "      <th>name</th>\n",
       "      <th>hand</th>\n",
       "      <th>ht</th>\n",
       "      <th>byear_of_birth</th>\n",
       "      <th>sex</th>\n",
       "    </tr>\n",
       "  </thead>\n",
       "  <tbody>\n",
       "    <tr>\n",
       "      <th>0</th>\n",
       "      <td>105453</td>\n",
       "      <td>JPN</td>\n",
       "      <td>Kei Nishikori</td>\n",
       "      <td>R</td>\n",
       "      <td>178</td>\n",
       "      <td>1989</td>\n",
       "      <td>M</td>\n",
       "    </tr>\n",
       "    <tr>\n",
       "      <th>1</th>\n",
       "      <td>106421</td>\n",
       "      <td>RUS</td>\n",
       "      <td>Daniil Medvedev</td>\n",
       "      <td>R</td>\n",
       "      <td>182</td>\n",
       "      <td>1996</td>\n",
       "      <td>M</td>\n",
       "    </tr>\n",
       "    <tr>\n",
       "      <th>2</th>\n",
       "      <td>104542</td>\n",
       "      <td>FRA</td>\n",
       "      <td>Jo-Wilfried Tsonga</td>\n",
       "      <td>R</td>\n",
       "      <td>180</td>\n",
       "      <td>1985</td>\n",
       "      <td>M</td>\n",
       "    </tr>\n",
       "    <tr>\n",
       "      <th>3</th>\n",
       "      <td>104871</td>\n",
       "      <td>FRA</td>\n",
       "      <td>Jeremy Chardy</td>\n",
       "      <td>R</td>\n",
       "      <td>182</td>\n",
       "      <td>1987</td>\n",
       "      <td>M</td>\n",
       "    </tr>\n",
       "    <tr>\n",
       "      <th>4</th>\n",
       "      <td>200282</td>\n",
       "      <td>AUS</td>\n",
       "      <td>Alex De Minaur</td>\n",
       "      <td>R</td>\n",
       "      <td>170</td>\n",
       "      <td>1999</td>\n",
       "      <td>M</td>\n",
       "    </tr>\n",
       "  </tbody>\n",
       "</table>\n",
       "</div>"
      ],
      "text/plain": [
       "   player_id country_id                name hand   ht  byear_of_birth sex\n",
       "0     105453        JPN       Kei Nishikori    R  178            1989   M\n",
       "1     106421        RUS     Daniil Medvedev    R  182            1996   M\n",
       "2     104542        FRA  Jo-Wilfried Tsonga    R  180            1985   M\n",
       "3     104871        FRA       Jeremy Chardy    R  182            1987   M\n",
       "4     200282        AUS      Alex De Minaur    R  170            1999   M"
      ]
     },
     "execution_count": 16,
     "metadata": {},
     "output_type": "execute_result"
    }
   ],
   "source": [
    "players.head()"
   ]
  },
  {
   "cell_type": "markdown",
   "metadata": {},
   "source": [
    "Dividiamo il file \"players\" in 15 chunk da 1000 righe ciascuno, per eseguire il commit al termine di ogni chunk."
   ]
  },
  {
   "cell_type": "code",
   "execution_count": 17,
   "metadata": {},
   "outputs": [],
   "source": [
    "number_of_chunks=15"
   ]
  },
  {
   "cell_type": "code",
   "execution_count": 18,
   "metadata": {},
   "outputs": [],
   "source": [
    "for idx, chunk in enumerate(np.array_split(players, number_of_chunks)):\n",
    "    chunk.to_csv(r'C:\\Users\\giada\\Desktop\\PROGETTO LAB\\tab da inserire\\chunk_players\\players_'+str(idx)+'.csv', index=False, header=True)"
   ]
  },
  {
   "cell_type": "markdown",
   "metadata": {},
   "source": [
    "Dividiamo il file \"tournament\" in 5 chunk da 1000 righe ciascuno.\n",
    "Mentre dividiamo \"match\" in 190 chunk sempre da 1000 righe ciascuno."
   ]
  },
  {
   "cell_type": "code",
   "execution_count": 19,
   "metadata": {},
   "outputs": [],
   "source": [
    "chunks_tourn=5\n",
    "chunks_match=190"
   ]
  },
  {
   "cell_type": "code",
   "execution_count": 20,
   "metadata": {},
   "outputs": [],
   "source": [
    "for idx, chunk in enumerate(np.array_split(tournament, chunks_tourn)):\n",
    "    chunk.to_csv(r'C:\\Users\\giada\\Desktop\\PROGETTO LAB\\tab da inserire\\chunk_tournament\\tournament_'+str(idx)+'.csv', index=False, header=True)\n",
    "for idx, chunk in enumerate(np.array_split(match, chunks_match)):\n",
    "    chunk.to_csv(r'C:\\Users\\giada\\Desktop\\PROGETTO LAB\\tab da inserire\\chunk_match\\match_'+str(idx)+'.csv', index=False, header=True)"
   ]
  }
 ],
 "metadata": {
  "kernelspec": {
   "display_name": "Python 3",
   "language": "python",
   "name": "python3"
  },
  "language_info": {
   "codemirror_mode": {
    "name": "ipython",
    "version": 3
   },
   "file_extension": ".py",
   "mimetype": "text/x-python",
   "name": "python",
   "nbconvert_exporter": "python",
   "pygments_lexer": "ipython3",
   "version": "3.8.5"
  }
 },
 "nbformat": 4,
 "nbformat_minor": 4
}
